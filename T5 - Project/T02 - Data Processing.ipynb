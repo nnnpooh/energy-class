{
 "metadata": {
  "language_info": {
   "codemirror_mode": {
    "name": "ipython",
    "version": 3
   },
   "file_extension": ".py",
   "mimetype": "text/x-python",
   "name": "python",
   "nbconvert_exporter": "python",
   "pygments_lexer": "ipython3",
   "version": "3.8.8"
  },
  "orig_nbformat": 2,
  "kernelspec": {
   "name": "python3",
   "display_name": "Python 3",
   "language": "python"
  }
 },
 "nbformat": 4,
 "nbformat_minor": 2,
 "cells": [
  {
   "source": [
    "# Data processing"
   ],
   "cell_type": "markdown",
   "metadata": {}
  },
  {
   "cell_type": "code",
   "execution_count": null,
   "metadata": {},
   "outputs": [],
   "source": [
    "from google.colab import drive\n",
    "drive.mount('/content/drive/', force_remount=True)"
   ]
  },
  {
   "cell_type": "code",
   "execution_count": null,
   "metadata": {},
   "outputs": [],
   "source": [
    "cd '/content/drive/MyDrive/Class/Energy Technology and Management/Topic 05 - Project'"
   ]
  },
  {
   "cell_type": "code",
   "execution_count": null,
   "metadata": {},
   "outputs": [],
   "source": [
    "!ls"
   ]
  },
  {
   "source": [
    "# Read data"
   ],
   "cell_type": "markdown",
   "metadata": {}
  },
  {
   "cell_type": "code",
   "execution_count": null,
   "metadata": {},
   "outputs": [],
   "source": [
    "import numpy as np\n",
    "import pandas as pd\n",
    "df_all = pd.read_csv('city_day.csv')"
   ]
  },
  {
   "cell_type": "code",
   "execution_count": null,
   "metadata": {},
   "outputs": [],
   "source": [
    "df_all.head()"
   ]
  },
  {
   "source": [
    "# Filter data"
   ],
   "cell_type": "markdown",
   "metadata": {}
  },
  {
   "cell_type": "code",
   "execution_count": null,
   "metadata": {},
   "outputs": [],
   "source": [
    "filt = df_all['City'] == 'Delhi'\n",
    "df_delhi = df_all.loc[filt].copy()\n",
    "df_delhi.head()"
   ]
  },
  {
   "source": [
    "# Choose particular columns"
   ],
   "cell_type": "markdown",
   "metadata": {}
  },
  {
   "cell_type": "code",
   "execution_count": null,
   "metadata": {},
   "outputs": [],
   "source": [
    "df_delhi = df_delhi[['Date','AQI']]\n",
    "df_delhi.head()"
   ]
  },
  {
   "source": [
    "# Rename columns to 'datetime' and 'y'"
   ],
   "cell_type": "markdown",
   "metadata": {}
  },
  {
   "cell_type": "code",
   "execution_count": null,
   "metadata": {},
   "outputs": [],
   "source": [
    "df_delhi = df_delhi.rename(columns={'AQI': 'y', 'Date':'datetime'})\n",
    "df_delhi.head()"
   ]
  },
  {
   "source": [
    "# Change date (string) column into DateTime index"
   ],
   "cell_type": "markdown",
   "metadata": {}
  },
  {
   "cell_type": "code",
   "execution_count": null,
   "metadata": {},
   "outputs": [],
   "source": [
    "# Set index\n",
    "df_delhi['datetime'] = pd.to_datetime(df_delhi['datetime'])\n",
    "df = df_delhi.set_index('datetime')\n",
    "df.head()"
   ]
  },
  {
   "source": [
    "# Resample data\n",
    "- https://pandas.pydata.org/pandas-docs/stable/user_guide/timeseries.html#dateoffset-objects"
   ],
   "cell_type": "markdown",
   "metadata": {}
  },
  {
   "cell_type": "code",
   "execution_count": null,
   "metadata": {},
   "outputs": [],
   "source": [
    "df_avg = df['y'].resample('D').mean()\n",
    "df_avg = pd.DataFrame(df_avg)\n",
    "df_avg.head()"
   ]
  },
  {
   "source": [
    "# Treating missing data"
   ],
   "cell_type": "markdown",
   "metadata": {}
  },
  {
   "cell_type": "code",
   "execution_count": null,
   "metadata": {},
   "outputs": [],
   "source": [
    "df_missing = df_avg[df_avg.isna().any(axis=1)]\n",
    "df_missing.shape"
   ]
  },
  {
   "cell_type": "code",
   "execution_count": null,
   "metadata": {},
   "outputs": [],
   "source": [
    "import matplotlib.pyplot as plt\n",
    "x_missing = df_missing.index\n",
    "fig, ax = plt.subplots(figsize=(10,3))\n",
    "df_avg.plot(ax=ax)\n",
    "ax.vlines(x_missing,0,800, color='r')\n",
    "plt.show()"
   ]
  },
  {
   "cell_type": "code",
   "execution_count": null,
   "metadata": {},
   "outputs": [],
   "source": [
    "df_rolling = df_avg['y'].rolling(24,min_periods=1,).mean()\n",
    "\n",
    "# Plotting\n",
    "fig, ax = plt.subplots(figsize=(10,3))\n",
    "df_avg.plot(ax=ax)\n",
    "df_rolling.plot(ax=ax)\n",
    "plt.show()"
   ]
  },
  {
   "cell_type": "code",
   "execution_count": null,
   "metadata": {},
   "outputs": [],
   "source": [
    "df_avg['y'] = df_avg['y'].fillna(df_rolling)"
   ]
  },
  {
   "cell_type": "code",
   "execution_count": null,
   "metadata": {},
   "outputs": [],
   "source": [
    "# No more missing values\n",
    "df_avg.info()"
   ]
  },
  {
   "source": [
    "# Wrtie to file"
   ],
   "cell_type": "markdown",
   "metadata": {}
  },
  {
   "cell_type": "code",
   "execution_count": null,
   "metadata": {},
   "outputs": [],
   "source": [
    "df_avg.to_csv('data_processed.csv')"
   ]
  },
  {
   "source": [
    "# Read from file"
   ],
   "cell_type": "markdown",
   "metadata": {}
  },
  {
   "source": [
    "df_read = pd.read_csv('data_processed.csv', parse_dates=['datetime'], index_col='datetime')"
   ],
   "cell_type": "code",
   "metadata": {},
   "execution_count": null,
   "outputs": []
  },
  {
   "cell_type": "code",
   "execution_count": null,
   "metadata": {},
   "outputs": [],
   "source": [
    "df_read.head()"
   ]
  }
 ]
}