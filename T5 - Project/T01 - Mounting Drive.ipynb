{
  "nbformat": 4,
  "nbformat_minor": 0,
  "metadata": {
    "colab": {
      "name": "T01 - Mounting Drive.ipynb",
      "provenance": [],
      "toc_visible": true
    },
    "kernelspec": {
      "name": "python3",
      "display_name": "Python 3",
      "language": "python"
    },
    "language_info": {
      "name": "python",
      "version": "3.8.8"
    }
  },
  "cells": [
    {
      "cell_type": "code",
      "metadata": {
        "colab": {
          "base_uri": "https://localhost:8080/"
        },
        "id": "TLURYMLNE00H",
        "outputId": "3ed49e62-ef28-478e-f6b5-41f8ccb8b469"
      },
      "source": [
        "from google.colab import drive\n",
        "drive.mount('/content/drive/')"
      ],
      "execution_count": null,
      "outputs": []
    },
    {
      "cell_type": "code",
      "metadata": {
        "colab": {
          "base_uri": "https://localhost:8080/"
        },
        "id": "4OSWgXLcFMKP",
        "outputId": "ecb8a932-5fce-4c98-e69e-bc88ae37785f"
      },
      "source": [
        "!pwd"
      ],
      "execution_count": null,
      "outputs": []
    },
    {
      "cell_type": "code",
      "metadata": {
        "colab": {
          "base_uri": "https://localhost:8080/"
        },
        "id": "mhRoF43cFMg9",
        "outputId": "ff639368-9f68-4248-b403-be54c62fcc62"
      },
      "source": [
        " cd '/content/drive/MyDrive/Class/Energy Technology and Management/Topic 05 - Project'"
      ],
      "execution_count": null,
      "outputs": []
    },
    {
      "cell_type": "code",
      "metadata": {
        "colab": {
          "base_uri": "https://localhost:8080/"
        },
        "id": "AV3KG2_MFTl8",
        "outputId": "ab453a93-1c32-42da-9299-905241d1e948"
      },
      "source": [
        "!pwd"
      ],
      "execution_count": null,
      "outputs": []
    },
    {
      "cell_type": "code",
      "metadata": {
        "colab": {
          "base_uri": "https://localhost:8080/"
        },
        "id": "Gm5aCPQQFU5x",
        "outputId": "60cf91c5-b73d-4d81-a965-7e62f509873b"
      },
      "source": [
        "!ls"
      ],
      "execution_count": null,
      "outputs": []
    },
    {
      "cell_type": "code",
      "metadata": {
        "colab": {
          "base_uri": "https://localhost:8080/",
          "height": 173
        },
        "id": "_xU77T4IFVxs",
        "outputId": "c34113df-c5b4-42df-e6fe-37886762f36b"
      },
      "source": [
        "import pandas as pd\n",
        "data = {'X': [0,1,2,3], 'Y':[4,5,6,7]}\n",
        "df = pd.DataFrame(data)\n",
        "display(df)"
      ],
      "execution_count": null,
      "outputs": []
    },
    {
      "cell_type": "code",
      "metadata": {
        "id": "WSzJV1YxGOjo"
      },
      "source": [
        "df.to_csv('test_write.csv')"
      ],
      "execution_count": null,
      "outputs": []
    },
    {
      "cell_type": "code",
      "metadata": {
        "id": "mf7RfSrOGS1c"
      },
      "source": [],
      "execution_count": null,
      "outputs": []
    }
  ]
}