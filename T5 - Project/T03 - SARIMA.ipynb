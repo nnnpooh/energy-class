{
 "metadata": {
  "language_info": {
   "codemirror_mode": {
    "name": "ipython",
    "version": 3
   },
   "file_extension": ".py",
   "mimetype": "text/x-python",
   "name": "python",
   "nbconvert_exporter": "python",
   "pygments_lexer": "ipython3",
   "version": "3.7.9"
  },
  "orig_nbformat": 2,
  "kernelspec": {
   "name": "python3",
   "display_name": "Python 3",
   "language": "python"
  }
 },
 "nbformat": 4,
 "nbformat_minor": 2,
 "cells": [
  {
   "source": [
    "# SARIMA"
   ],
   "cell_type": "markdown",
   "metadata": {}
  },
  {
   "cell_type": "code",
   "execution_count": null,
   "metadata": {},
   "outputs": [],
   "source": [
    "# Check package version (Need to do this first because of having to restarting the runtime.)\n",
    "from packaging import version\n",
    "import statsmodels\n",
    "if version.parse(statsmodels.__version__) < version.parse('0.12.1'):\n",
    "  !pip install statsmodels==0.12.1\n",
    "\n",
    "from statsmodels.graphics.tsaplots import plot_acf, plot_pacf\n",
    "from statsmodels.tsa.stattools import adfuller\n",
    "from statsmodels.tsa.stattools import kpss\n",
    "import itertools\n",
    "from statsmodels.tsa.statespace.sarimax import SARIMAX\n",
    "import numpy as np"
   ]
  },
  {
   "cell_type": "code",
   "execution_count": null,
   "metadata": {},
   "outputs": [],
   "source": [
    "from google.colab import drive\n",
    "drive.mount('/content/drive/')"
   ]
  },
  {
   "cell_type": "code",
   "execution_count": null,
   "metadata": {},
   "outputs": [],
   "source": [
    "cd '/content/drive/MyDrive/Class/Energy Technology and Management/Topic 05 - Project'"
   ]
  },
  {
   "cell_type": "code",
   "execution_count": null,
   "metadata": {},
   "outputs": [],
   "source": [
    "!ls"
   ]
  },
  {
   "source": [
    "## Setting up"
   ],
   "cell_type": "markdown",
   "metadata": {}
  },
  {
   "cell_type": "code",
   "execution_count": null,
   "metadata": {},
   "outputs": [],
   "source": [
    "#Perform Dickey-Fuller test:\n",
    "def adf_test(timeseries):\n",
    "    print ('Results of Dickey-Fuller Test:')\n",
    "    dftest = adfuller(timeseries, autolag='AIC')\n",
    "    dfoutput = pd.Series(dftest[0:4], index=['Test Statistic','p-value','#Lags Used','Number of Observations Used'])\n",
    "    for key,value in dftest[4].items():\n",
    "       dfoutput['Critical Value (%s)'%key] = value\n",
    "    print (dfoutput)\n",
    "# kpss_test\n",
    "def kpss_test(timeseries):\n",
    "    print ('Results of KPSS Test:')\n",
    "    kpsstest = kpss(timeseries, regression='c')\n",
    "    kpss_output = pd.Series(kpsstest[0:3], index=['Test Statistic','p-value','Lags Used'])\n",
    "    for key,value in kpsstest[3].items():\n",
    "      kpss_output['Critical Value (%s)'%key] = value\n",
    "    print (kpss_output)"
   ]
  },
  {
   "source": [
    "# Load data"
   ],
   "cell_type": "markdown",
   "metadata": {}
  },
  {
   "cell_type": "code",
   "execution_count": null,
   "metadata": {},
   "outputs": [],
   "source": [
    "import pandas as pd\n",
    "df_avg = pd.read_csv('data_processed.csv', parse_dates=['datetime'], index_col='datetime')\n",
    "df_avg.head()"
   ]
  },
  {
   "source": [
    "## \\[Mod\\] Change the frequency of datetime here.\n",
    "- https://pandas.pydata.org/pandas-docs/stable/user_guide/timeseries.html#offset-aliases"
   ],
   "cell_type": "markdown",
   "metadata": {}
  },
  {
   "cell_type": "code",
   "execution_count": null,
   "metadata": {},
   "outputs": [],
   "source": [
    "# Change the frequency of datetime here.\n",
    "df_avg.index.freq = 'D'"
   ]
  },
  {
   "cell_type": "code",
   "execution_count": null,
   "metadata": {},
   "outputs": [],
   "source": [
    "import matplotlib.pyplot as plt\n",
    "df_avg.plot(figsize=(10, 3))\n",
    "plt.show()"
   ]
  },
  {
   "source": [
    "# Test for stationariy and seasonality\n",
    "- ไม่ทำอะไรเลย\n",
    "```python\n",
    "df_diff = df_avg\n",
    "```\n",
    "\n",
    "- Diff 1 ครั้ง (```d=1```)\n",
    "\n",
    "```python\n",
    "df_diff = df_avg.diff(1).dropna()\n",
    "```\n",
    "\n",
    "- Diff 1 ครั้ง (```d=1```) และ Diff ด้วย ช่วง 7 หนึ่งครั้ง (```lag=7, D=1```) \n",
    "\n",
    "```python\n",
    "df_diff = df_avg.diff(1).diff(7).dropna()\n",
    "```"
   ],
   "cell_type": "markdown",
   "metadata": {}
  },
  {
   "cell_type": "code",
   "execution_count": null,
   "metadata": {},
   "outputs": [],
   "source": [
    "df_diff = df_avg.diff(1).dropna()\n",
    "plot_acf(df_diff, lags=30)\n",
    "plot_pacf(df_diff, lags=30)\n",
    "fig, ax = plt.subplots(figsize=(10, 3))\n",
    "df_diff.plot(ax=ax)\n",
    "plt.show()\n",
    "adf_test(df_diff)\n",
    "kpss_test(df_diff)"
   ]
  },
  {
   "source": [
    "# Model selection"
   ],
   "cell_type": "markdown",
   "metadata": {}
  },
  {
   "source": [
    "## \\[Mod\\] Change the parameters here\n",
    "\n",
    "ถ้าโมเดลไม่มี Seasonality ให้ใส่ P, Q, D, lag เป็น 0 ให้หมดดังนี้\n",
    "\n",
    "```python\n",
    "P = [0]\n",
    "D = [0]\n",
    "Q = [0]\n",
    "lag = [0]\n",
    "```"
   ],
   "cell_type": "markdown",
   "metadata": {}
  },
  {
   "cell_type": "code",
   "execution_count": null,
   "metadata": {},
   "outputs": [],
   "source": [
    "p = [1,2]\n",
    "d = [1]\n",
    "q = [1,2]\n",
    "P = [1,2]\n",
    "D = [1]\n",
    "Q = [1]\n",
    "lag = [7]\n",
    "params = list(itertools.product(p, d, q, P, D, Q, lag))\n",
    "print(f\"Number of models to test: {len(params)}\")"
   ]
  },
  {
   "cell_type": "code",
   "execution_count": null,
   "metadata": {
    "tags": []
   },
   "outputs": [],
   "source": [
    "fit_results = pd.DataFrame()\n",
    "for param in params:\n",
    "    pdq = param[0:3]\n",
    "    PDQL = param[3:7]\n",
    "    try:\n",
    "        mod = SARIMAX(df_avg, order=pdq, seasonal_order=PDQL)\n",
    "        results = mod.fit(method = 'powell',start_params=np.random.random(7))\n",
    "        data = {'param': pdq, 'param_seasonal': PDQL, 'AIC':results.aic }\n",
    "        fit_results = fit_results.append(data, ignore_index=True)\n",
    "    except:\n",
    "        continue\n",
    "fit_results = fit_results.sort_values(by='AIC',ascending=True)"
   ]
  },
  {
   "cell_type": "code",
   "execution_count": null,
   "metadata": {},
   "outputs": [],
   "source": [
    "fit_results.head(10)"
   ]
  },
  {
   "source": [
    "# Model training"
   ],
   "cell_type": "markdown",
   "metadata": {}
  },
  {
   "cell_type": "code",
   "execution_count": null,
   "metadata": {},
   "outputs": [],
   "source": [
    "rank = 1\n",
    "pdq = fit_results.iloc[rank-1,1]\n",
    "PDQL = fit_results.iloc[rank-1,2]\n",
    "\n",
    "print(f\"Using ({pdq[0]},{pdq[1]},{pdq[2]})({PDQL[0]},{PDQL[1]},{PDQL[2]},{PDQL[3]})\")\n",
    "\n",
    "mod = SARIMAX(df_avg, order=pdq, seasonal_order=PDQL)\n",
    "results = mod.fit(method = 'powell', start_params=np.random.random(7))"
   ]
  },
  {
   "source": [
    "# Model evaluation"
   ],
   "cell_type": "markdown",
   "metadata": {}
  },
  {
   "cell_type": "code",
   "execution_count": null,
   "metadata": {},
   "outputs": [],
   "source": [
    "fig = results.plot_diagnostics(figsize=(10, 6))\n",
    "fig.tight_layout()"
   ]
  },
  {
   "cell_type": "code",
   "execution_count": null,
   "metadata": {},
   "outputs": [],
   "source": [
    "pred = results.get_prediction(start=df_avg.index[1], end=df_avg.index[-1], dynamic=False)\n",
    "comb = pd.concat([df_avg, pred.predicted_mean], axis=1).dropna()\n",
    "comb['error'] = comb.iloc[:,0] - comb.iloc[:,1]\n",
    "comb['percentage'] = comb['error']/comb.iloc[:,0]*100\n",
    "\n",
    "MAE = comb['error'].abs().mean()\n",
    "RMSE = np.sqrt((comb['error']**2).mean())\n",
    "MAPE = comb['percentage'].abs().mean()\n",
    "\n",
    "print(f\"Mean absolute error: {MAE:6.3f}\")\n",
    "print(f\"Root mean squared error: {RMSE:6.3f}\")\n",
    "print(f\"Mean absolute percentage error: {MAPE:6.3f}\")\n"
   ]
  },
  {
   "source": [
    "## Store preduction results in \"df_results\" dataframe."
   ],
   "cell_type": "markdown",
   "metadata": {}
  },
  {
   "cell_type": "code",
   "execution_count": null,
   "metadata": {},
   "outputs": [],
   "source": [
    "df_result = pd.concat((df_avg, pred.predicted_mean, pred.conf_int()), axis=1)\n",
    "df_result.columns = ['y', 'y_pred', 'y_pred_lower', 'y_pred_upper']\n",
    "df_result = df_result.dropna()\n",
    "df_result.tail()"
   ]
  },
  {
   "source": [
    "# Forecasting"
   ],
   "cell_type": "markdown",
   "metadata": {}
  },
  {
   "cell_type": "code",
   "execution_count": null,
   "metadata": {},
   "outputs": [],
   "source": [
    "n_forecast = 10"
   ]
  },
  {
   "cell_type": "code",
   "execution_count": null,
   "metadata": {},
   "outputs": [],
   "source": [
    "# Figure out start and end date\n",
    "freq = df_avg.index.freq\n",
    "start_dt = df_avg.index[-1] + freq \n",
    "end_dt = start_dt + n_forecast * freq\n",
    "\n",
    "# Get prediction\n",
    "pred = results.get_prediction(start=start_dt, end=end_dt, dynamic=False)\n",
    "\n",
    "df_forecast = pd.concat( (pred.predicted_mean, pred.conf_int()), axis=1)\n",
    "df_forecast.columns = ['y_pred', 'y_pred_lower', 'y_pred_upper']\n",
    "df_forecast.index.name = 'datetime'\n",
    "df_forecast.head()"
   ]
  },
  {
   "source": [
    "# Plotting"
   ],
   "cell_type": "markdown",
   "metadata": {}
  },
  {
   "cell_type": "code",
   "execution_count": null,
   "metadata": {},
   "outputs": [],
   "source": [
    "fig, ax = plt.subplots(figsize=(10,5))\n",
    "\n",
    "df_result[['y']].plot(ax=ax)\n",
    "df_result[['y_pred']].plot(ax=ax)\n",
    "df_forecast[['y_pred']].plot(ax=ax,linestyle='--',marker='s')\n",
    "\n",
    "dfp = df_result\n",
    "ax.fill_between(dfp.index, dfp['y_pred_lower'], dfp['y_pred_upper'], color='k', alpha=.1)\n",
    "dfp = df_forecast\n",
    "ax.fill_between(dfp.index, dfp['y_pred_lower'], dfp['y_pred_upper'], color='k', alpha=.1)\n",
    "\n",
    "ax.set_xlabel('Date / Time')\n",
    "ax.set_ylabel('Y')\n",
    "ax.legend(['Original','Predicted','Forecasted'])\n",
    "\n",
    "yp_max = df_result['y'].max()\n",
    "yp_min = df_result['y'].min()\n",
    "yp_mean = df_result['y'].mean()\n",
    "ax.set_ylim(yp_min-0.1*yp_mean,yp_max+0.1*yp_mean)\n",
    "plt.show()\n"
   ]
  },
  {
   "cell_type": "code",
   "execution_count": null,
   "metadata": {},
   "outputs": [],
   "source": [
    "fig, ax = plt.subplots(figsize=(10,5))\n",
    "\n",
    "df_result[['y']].plot(ax=ax)\n",
    "df_result[['y_pred']].plot(ax=ax)\n",
    "df_forecast[['y_pred']].plot(ax=ax,linestyle='--',marker='s')\n",
    "\n",
    "dfp = df_result\n",
    "ax.fill_between(dfp.index, dfp['y_pred_lower'], dfp['y_pred_upper'], color='k', alpha=.1)\n",
    "dfp = df_forecast\n",
    "ax.fill_between(dfp.index, dfp['y_pred_lower'], dfp['y_pred_upper'], color='k', alpha=.1)\n",
    "\n",
    "ax.set_xlabel('Date / Time')\n",
    "ax.set_ylabel('Y')\n",
    "ax.legend(['Original','Predicted','Forecasted'])\n",
    "\n",
    "dt_start = df_result.index[-n_forecast*4]\n",
    "dt_end = df_forecast.index[-1]\n",
    "ax.set_xlim(dt_start,dt_end)\n",
    "\n",
    "yp_max = df_result['y'].max()\n",
    "yp_min = df_result['y'].min()\n",
    "yp_mean = df_result['y'].mean()\n",
    "ax.set_ylim(yp_min-0.1*yp_mean,yp_max+0.1*yp_mean)\n",
    "\n",
    "plt.show()"
   ]
  },
  {
   "source": [
    "# Writing data to files"
   ],
   "cell_type": "markdown",
   "metadata": {}
  },
  {
   "cell_type": "code",
   "execution_count": null,
   "metadata": {},
   "outputs": [],
   "source": [
    "df_result.to_csv('data_SARIMA_predict.csv')"
   ]
  },
  {
   "cell_type": "code",
   "execution_count": null,
   "metadata": {},
   "outputs": [],
   "source": [
    "df_forecast.to_csv('data_SARIMA_forecast.csv')"
   ]
  }
 ]
}