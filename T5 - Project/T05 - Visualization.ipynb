{
 "metadata": {
  "language_info": {
   "codemirror_mode": {
    "name": "ipython",
    "version": 3
   },
   "file_extension": ".py",
   "mimetype": "text/x-python",
   "name": "python",
   "nbconvert_exporter": "python",
   "pygments_lexer": "ipython3",
   "version": "3.8.8"
  },
  "orig_nbformat": 2,
  "kernelspec": {
   "name": "python3",
   "display_name": "Python 3.8.8 64-bit ('tf': conda)",
   "metadata": {
    "interpreter": {
     "hash": "fe5d1669f8b946c1618128be933495c860d3e29d6764c45fe9f8dd07c4509d07"
    }
   }
  }
 },
 "nbformat": 4,
 "nbformat_minor": 2,
 "cells": [
  {
   "source": [
    "# Visualization"
   ],
   "cell_type": "markdown",
   "metadata": {}
  },
  {
   "cell_type": "code",
   "execution_count": null,
   "metadata": {},
   "outputs": [],
   "source": [
    "from google.colab import drive\n",
    "drive.mount('/content/drive/')"
   ]
  },
  {
   "cell_type": "code",
   "execution_count": null,
   "metadata": {},
   "outputs": [],
   "source": [
    "cd '/content/drive/MyDrive/Class/Energy Technology and Management/Topic 05 - Project'"
   ]
  },
  {
   "cell_type": "code",
   "execution_count": null,
   "metadata": {},
   "outputs": [],
   "source": [
    "!ls"
   ]
  },
  {
   "source": [
    "# Read data"
   ],
   "cell_type": "markdown",
   "metadata": {}
  },
  {
   "cell_type": "code",
   "execution_count": null,
   "metadata": {},
   "outputs": [],
   "source": [
    "import numpy as np\n",
    "import pandas as pd\n",
    "import matplotlib.pyplot as plt\n",
    "\n",
    "df_SARIMA_pred = pd.read_csv('data_SARIMA_predict.csv', parse_dates=['datetime'], index_col='datetime')\n",
    "df_SARIMA_fore = pd.read_csv('data_SARIMA_forecast.csv', parse_dates=['datetime'], index_col='datetime')\n",
    "df_LSTM_pred = pd.read_csv('data_LSTM_predict.csv', parse_dates=['datetime'], index_col='datetime')\n",
    "df_LSTM_fore = pd.read_csv('data_LSTM_forecast.csv', parse_dates=['datetime'], index_col='datetime')"
   ]
  },
  {
   "source": [
    "# SARIMA"
   ],
   "cell_type": "markdown",
   "metadata": {}
  },
  {
   "cell_type": "code",
   "execution_count": null,
   "metadata": {},
   "outputs": [],
   "source": [
    "fig, ax = plt.subplots(figsize=(10,5))\n",
    "\n",
    "df_result = df_SARIMA_pred\n",
    "df_forecast = df_SARIMA_fore\n",
    "n_forecast = df_forecast.shape[0]\n",
    "\n",
    "df_result[['y']].plot(ax=ax)\n",
    "df_result[['y_pred']].plot(ax=ax)\n",
    "df_forecast[['y_pred']].plot(ax=ax,linestyle='--',marker='s')\n",
    "\n",
    "dfp = df_result\n",
    "ax.fill_between(dfp.index, dfp['y_pred_lower'], dfp['y_pred_upper'], color='k', alpha=.1)\n",
    "dfp = df_forecast\n",
    "ax.fill_between(dfp.index, dfp['y_pred_lower'], dfp['y_pred_upper'], color='k', alpha=.1)\n",
    "\n",
    "# Set your label here\n",
    "ax.set_xlabel('Date / Time')\n",
    "ax.set_ylabel('Y')\n",
    "ax.legend(['Original','Predicted','Forecasted'])\n",
    "\n",
    "yp_max = df_result['y'].max()\n",
    "yp_min = df_result['y'].min()\n",
    "yp_mean = df_result['y'].mean()\n",
    "ax.set_ylim(yp_min-0.1*yp_mean,yp_max+0.1*yp_mean)\n",
    "\n",
    "\n",
    "plt.savefig('fig_SARIMA.png', dpi=300, bbox_inches='tight')\n",
    "plt.show()"
   ]
  },
  {
   "cell_type": "code",
   "execution_count": null,
   "metadata": {},
   "outputs": [],
   "source": [
    "fig, ax = plt.subplots(figsize=(10,5))\n",
    "\n",
    "df_result = df_SARIMA_pred\n",
    "df_forecast = df_SARIMA_fore\n",
    "n_forecast = df_forecast.shape[0]\n",
    "\n",
    "df_result[['y']].plot(ax=ax)\n",
    "df_result[['y_pred']].plot(ax=ax)\n",
    "df_forecast[['y_pred']].plot(ax=ax,linestyle='--',marker='s')\n",
    "\n",
    "dfp = df_result\n",
    "ax.fill_between(dfp.index, dfp['y_pred_lower'], dfp['y_pred_upper'], color='k', alpha=.1)\n",
    "dfp = df_forecast\n",
    "ax.fill_between(dfp.index, dfp['y_pred_lower'], dfp['y_pred_upper'], color='k', alpha=.1)\n",
    "\n",
    "# Set your label here\n",
    "ax.set_xlabel('Date / Time')\n",
    "ax.set_ylabel('Y')\n",
    "ax.legend(['Original','Predicted','Forecasted'])\n",
    "\n",
    "# Set your lookback\n",
    "look_back = 4\n",
    "dt_start = df_result.index[-n_forecast*look_back]\n",
    "dt_end = df_forecast.index[-1]\n",
    "ax.set_xlim(dt_start,dt_end)\n",
    "\n",
    "yp_max = df_result['y'].max()\n",
    "yp_min = df_result['y'].min()\n",
    "yp_mean = df_result['y'].mean()\n",
    "ax.set_ylim(yp_min-0.1*yp_mean,yp_max+0.1*yp_mean)\n",
    "\n",
    "plt.savefig('fig_SARIMA_zoom.png', dpi=300, bbox_inches='tight')\n",
    "plt.show()"
   ]
  },
  {
   "source": [
    "# LSTM"
   ],
   "cell_type": "markdown",
   "metadata": {}
  },
  {
   "cell_type": "code",
   "execution_count": null,
   "metadata": {},
   "outputs": [],
   "source": [
    "fig, ax = plt.subplots(figsize=(10,5))\n",
    "\n",
    "df_result = df_LSTM_pred\n",
    "df_forecast = df_LSTM_fore\n",
    "n_forecast = df_forecast.shape[0]\n",
    "\n",
    "df_result[['y']].plot(ax=ax)\n",
    "df_result[['y_pred_2']].plot(ax=ax)\n",
    "df_forecast[['y_pred']].plot(ax=ax,linestyle='--',marker='s')\n",
    "\n",
    "# Set your label here\n",
    "ax.set_xlabel('Date / Time')\n",
    "ax.set_ylabel('Y')\n",
    "ax.legend(['Original','Predicted','Forecasted'])\n",
    "\n",
    "yp_max = df_result['y'].max()\n",
    "yp_min = df_result['y'].min()\n",
    "yp_mean = df_result['y'].mean()\n",
    "ax.set_ylim(yp_min-0.1*yp_mean,yp_max+0.1*yp_mean)\n",
    "\n",
    "plt.savefig('fig_LSTM.png', dpi=300, bbox_inches='tight')\n",
    "plt.show()"
   ]
  },
  {
   "cell_type": "code",
   "execution_count": null,
   "metadata": {},
   "outputs": [],
   "source": [
    "fig, ax = plt.subplots(figsize=(10,5))\n",
    "df_result['y'].plot(ax=ax)\n",
    "df_result['y_pred_2'].plot(ax=ax)\n",
    "df_forecast['y_pred'].plot(ax=ax,linestyle='--',marker='s')\n",
    "\n",
    "# Set your label here\n",
    "ax.set_xlabel('Date / Time')\n",
    "ax.set_ylabel('Y')\n",
    "ax.legend(['Original','Predicted','Forecasted'])\n",
    "\n",
    "# Set your lookback\n",
    "look_back = 4\n",
    "dt_start = df_result.index[-n_forecast*look_back]\n",
    "dt_end = df_forecast.index[-1]\n",
    "ax.set_xlim(dt_start,dt_end)\n",
    "\n",
    "plt.savefig('fig_LSTM_zoom.png', dpi=300, bbox_inches='tight')\n",
    "plt.show()"
   ]
  },
  {
   "source": [
    "# Comparison"
   ],
   "cell_type": "markdown",
   "metadata": {}
  },
  {
   "cell_type": "code",
   "execution_count": null,
   "metadata": {},
   "outputs": [],
   "source": [
    "fig, ax = plt.subplots(figsize=(10,5))\n",
    "df_SARIMA_pred[['y']].plot(ax=ax)\n",
    "df_SARIMA_fore[['y_pred']].plot(ax=ax, linestyle='--',marker='s')\n",
    "df_LSTM_fore[['y_pred']].plot(ax=ax, linestyle='--',marker='*')\n",
    "\n",
    "# Set your label here\n",
    "ax.set_xlabel('Date / Time')\n",
    "ax.set_ylabel('Y')\n",
    "ax.legend(['Original','SARIMA','LSTM'])\n",
    "\n",
    "# Set your lookback\n",
    "look_back = 2\n",
    "dt_start = df_result.index[-n_forecast*look_back]\n",
    "dt_end = df_forecast.index[-1]\n",
    "ax.set_xlim(dt_start,dt_end)\n",
    "\n",
    "plt.savefig('fig_compare.png', dpi=300, bbox_inches='tight')\n",
    "plt.show()\n"
   ]
  }
 ]
}