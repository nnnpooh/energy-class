{
 "cells": [
  {
   "cell_type": "markdown",
   "metadata": {
    "id": "tEINf4bEL9jR"
   },
   "source": [
    "# Matplotlib"
   ]
  },
  {
   "cell_type": "code",
   "execution_count": null,
   "metadata": {
    "id": "cmh_7c6KL9jR"
   },
   "outputs": [],
   "source": [
    "import numpy as np\n",
    "import matplotlib.pyplot as plt"
   ]
  },
  {
   "source": [
    "## Plot a single line (PyPlot-style)"
   ],
   "cell_type": "markdown",
   "metadata": {}
  },
  {
   "cell_type": "code",
   "execution_count": null,
   "metadata": {
    "colab": {
     "base_uri": "https://localhost:8080/",
     "height": 282
    },
    "id": "pua52BGeL9jW",
    "outputId": "6566ddd7-58c8-4668-99ef-558f1239d341"
   },
   "outputs": [],
   "source": [
    "# Compute the x and y coordinates for points on a sine curve\n",
    "x = np.arange(start=0, stop = 3*np.pi, step = 0.1)\n",
    "y = np.sin(x)\n",
    "\n",
    "# Plot the points using matplotlib\n",
    "plt.plot(x, y)\n",
    "\n",
    "# This is just to prevent annoying text.\n",
    "plt.show()"
   ]
  },
  {
   "source": [
    "## Plot a single line (object-oriented style)"
   ],
   "cell_type": "markdown",
   "metadata": {}
  },
  {
   "cell_type": "code",
   "execution_count": null,
   "metadata": {},
   "outputs": [],
   "source": [
    "# Another way\n",
    "(fig, ax) = plt.subplots()\n",
    "\n",
    "ax.plot(x, y)\n",
    "\n",
    "plt.show()"
   ]
  },
  {
   "source": [
    "## Plot 2 lines (Pyplot-style)"
   ],
   "cell_type": "markdown",
   "metadata": {}
  },
  {
   "cell_type": "code",
   "execution_count": null,
   "metadata": {
    "colab": {
     "base_uri": "https://localhost:8080/",
     "height": 312
    },
    "id": "TfCQHJ5AL9jY",
    "outputId": "ebd3eed2-821c-4b42-cb00-6b0cfeead242"
   },
   "outputs": [],
   "source": [
    "y_sin = np.sin(x)\n",
    "y_cos = np.cos(x)\n",
    "\n",
    "# Plot the points using matplotlib\n",
    "plt.plot(x, y_sin)\n",
    "plt.plot(x, y_cos)\n",
    "plt.xlabel('x axis')\n",
    "plt.ylabel('y axis')\n",
    "plt.legend(['Sine', 'Cosine'])\n",
    "plt.title('Sine and Cosine')\n",
    "\n",
    "plt.show()"
   ]
  },
  {
   "source": [
    "## Plot two lines (object-oriented style)"
   ],
   "cell_type": "markdown",
   "metadata": {}
  },
  {
   "cell_type": "code",
   "execution_count": null,
   "metadata": {},
   "outputs": [],
   "source": [
    "# Another way\n",
    "(fig, ax) = plt.subplots()\n",
    "\n",
    "ax.plot(x, y_sin)\n",
    "ax.plot(x, y_cos)\n",
    "ax.set_xlabel('x axis')\n",
    "ax.set_ylabel('y axis')\n",
    "ax.set_title('Sine and Cosine')\n",
    "ax.legend(['Sine','Cosine'])\n",
    "\n",
    "plt.show()"
   ]
  },
  {
   "source": [
    "## Subplot (Pyplot-style)"
   ],
   "cell_type": "markdown",
   "metadata": {}
  },
  {
   "cell_type": "code",
   "execution_count": null,
   "metadata": {
    "colab": {
     "base_uri": "https://localhost:8080/",
     "height": 298
    },
    "id": "dM23yGH9L9ja",
    "outputId": "ab9a42f2-43ec-427a-a8d8-03bc2c33b1d8"
   },
   "outputs": [],
   "source": [
    "# Compute the x and y coordinates for points on sine and cosine curves\n",
    "x = np.arange(0, 3 * np.pi, 0.1)\n",
    "y_sin = np.sin(x)\n",
    "y_cos = np.cos(x)\n",
    "\n",
    "# Make longer figure\n",
    "plt.figure(figsize=(10,4))\n",
    "\n",
    "# Left plot\n",
    "plt.subplot(1,2,1)\n",
    "plt.plot(x, y_sin)\n",
    "plt.title('Sine')\n",
    "plt.xlabel('x axis')\n",
    "plt.ylabel('y axis')\n",
    "plt.legend(['Sine'])\n",
    "\n",
    "# Right plot\n",
    "plt.subplot(1,2,2)\n",
    "plt.plot(x, y_cos)\n",
    "plt.title('Cosine')\n",
    "plt.xlabel('x axis')\n",
    "plt.ylabel('y axis')\n",
    "plt.legend(['Cosine'])\n",
    "\n",
    "plt.show()"
   ]
  },
  {
   "source": [
    "## Subplot (object-oriented style)"
   ],
   "cell_type": "markdown",
   "metadata": {}
  },
  {
   "cell_type": "code",
   "execution_count": null,
   "metadata": {},
   "outputs": [],
   "source": [
    "fig, (ax1, ax2) = plt.subplots(1, 2, figsize=(10,4))\n",
    "\n",
    "ax1.plot(x, y_sin)\n",
    "ax1.set_title('Sine')\n",
    "ax1.set_xlabel('x axis')\n",
    "ax1.set_ylabel('y axis')\n",
    "ax1.legend(['Sine'])\n",
    "\n",
    "ax2.plot(x, y_cos)\n",
    "ax2.set_title('Sine')\n",
    "ax2.set_xlabel('x axis')\n",
    "ax2.set_ylabel('y axis')\n",
    "ax2.legend(['Sine'])\n",
    "\n",
    "plt.show()"
   ]
  }
 ],
 "metadata": {
  "colab": {
   "collapsed_sections": [],
   "name": "Copy of Basic_Python_Super_AI_Part3.ipynb",
   "provenance": []
  },
  "kernelspec": {
   "display_name": "Python 3",
   "language": "python",
   "name": "python3"
  },
  "language_info": {
   "codemirror_mode": {
    "name": "ipython",
    "version": 3
   },
   "file_extension": ".py",
   "mimetype": "text/x-python",
   "name": "python",
   "nbconvert_exporter": "python",
   "pygments_lexer": "ipython3",
   "version": "3.8.5-final"
  }
 },
 "nbformat": 4,
 "nbformat_minor": 1
}