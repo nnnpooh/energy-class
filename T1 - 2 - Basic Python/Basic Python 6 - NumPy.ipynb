{
 "cells": [
  {
   "cell_type": "markdown",
   "metadata": {
    "id": "fifkCFyRihN6"
   },
   "source": [
    "# NumPy Library"
   ]
  },
  {
   "cell_type": "markdown",
   "metadata": {
    "id": "lVIrX_jEilD7"
   },
   "source": [
    "NumPy is a library for the Python programming language, adding support for large, multi-dimensional arrays and matrices, along with a large collection of high-level mathematical functions to operate on these arrays"
   ]
  },
  {
   "cell_type": "markdown",
   "metadata": {},
   "source": [
    "## Use case\n",
    "Calculate mean"
   ]
  },
  {
   "cell_type": "code",
   "execution_count": null,
   "metadata": {
    "colab": {
     "base_uri": "https://localhost:8080/",
     "height": 34
    },
    "id": "OUev6qddi4zb",
    "outputId": "30aaa147-c9dc-490c-d57d-6cb43022801c"
   },
   "outputs": [],
   "source": [
    "number_list = [1,2,3,4,5,6,7,8,9,10]\n",
    "\n",
    "sum_num = 0\n",
    "n = len(number_list)\n",
    "\n",
    "for num in number_list:\n",
    "    sum_num = sum_num + num\n",
    "\n",
    "result = sum_num/n\n",
    "print(result)"
   ]
  },
  {
   "cell_type": "code",
   "execution_count": null,
   "metadata": {
    "colab": {
     "base_uri": "https://localhost:8080/",
     "height": 34
    },
    "id": "pAaiLzUIjZxu",
    "outputId": "42b6b50c-c34b-4f5b-e76d-ffc2822c2a59"
   },
   "outputs": [],
   "source": [
    "import numpy as np\n",
    "np.mean(number_list)"
   ]
  },
  {
   "cell_type": "markdown",
   "metadata": {
    "id": "lZMyAdqhL9hY"
   },
   "source": [
    "## Importing\n",
    "To use Numpy, we first need to import the `numpy` package:"
   ]
  },
  {
   "cell_type": "code",
   "execution_count": null,
   "metadata": {
    "id": "58QdX8BLL9hZ"
   },
   "outputs": [],
   "source": [
    "import numpy as np"
   ]
  },
  {
   "cell_type": "markdown",
   "metadata": {
    "id": "DDx6v1EdL9hb"
   },
   "source": [
    "## Array creation\n",
    "NumPy is used to work with arrays. The array object in NumPy is called <code>ndarray</code>."
   ]
  },
  {
   "cell_type": "markdown",
   "metadata": {},
   "source": [
    "## <code>array()</code> function"
   ]
  },
  {
   "cell_type": "code",
   "execution_count": null,
   "metadata": {
    "colab": {
     "base_uri": "https://localhost:8080/",
     "height": 34
    },
    "id": "-l3JrGxCL9hc",
    "outputId": "ba8388f4-660b-4974-fd77-5f20bd36338c"
   },
   "outputs": [],
   "source": [
    "# Create an array 1x3 Dimension from Python list\n",
    "a = np.array([1,2,3])\n",
    "print(a)"
   ]
  },
  {
   "cell_type": "code",
   "execution_count": null,
   "metadata": {},
   "outputs": [],
   "source": [
    "type(a)"
   ]
  },
  {
   "cell_type": "code",
   "execution_count": null,
   "metadata": {},
   "outputs": [],
   "source": [
    "print(a.shape)\n",
    "print(np.shape(a))"
   ]
  },
  {
   "cell_type": "code",
   "execution_count": null,
   "metadata": {},
   "outputs": [],
   "source": [
    "# Create an array 2x3 Dimension from Python list\n",
    "b = np.array([[1, 2, 3], [4, 5, 6]])\n",
    "print(b)"
   ]
  },
  {
   "cell_type": "code",
   "execution_count": null,
   "metadata": {},
   "outputs": [],
   "source": [
    "print(b.shape)\n",
    "print(np.shape(b))"
   ]
  },
  {
   "cell_type": "markdown",
   "metadata": {},
   "source": [
    "* <a href=https://miro.medium.com/max/2000/1*Ikn1J6siiiCSk4ivYUhdgw.png>หน้าตาของ array แต่ละมิติ</a>\n",
    "* credit: https://medium.com/datadriveninvestor/artificial-intelligence-series-part-2-numpy-walkthrough-64461f26af4f"
   ]
  },
  {
   "cell_type": "markdown",
   "metadata": {},
   "source": [
    "### NumPy array VS Python list"
   ]
  },
  {
   "cell_type": "code",
   "execution_count": null,
   "metadata": {
    "colab": {
     "base_uri": "https://localhost:8080/",
     "height": 34
    },
    "id": "X0K8GEghe7fU",
    "outputId": "9b20e869-39b0-4490-afce-4caa5e373f12"
   },
   "outputs": [],
   "source": [
    "a_list = [1,2,3]\n",
    "b_list = [4,5,6]\n",
    "print(a_list+b_list)"
   ]
  },
  {
   "cell_type": "code",
   "execution_count": null,
   "metadata": {},
   "outputs": [],
   "source": [
    "a_np = np.array([1,2,3])\n",
    "b_np = np.array([4,5,6])\n",
    "print(a_np + b_np)"
   ]
  },
  {
   "cell_type": "code",
   "execution_count": null,
   "metadata": {
    "colab": {
     "base_uri": "https://localhost:8080/",
     "height": 34
    },
    "id": "XocFRygffH0h",
    "outputId": "c7ed1833-08c3-4701-e3fd-f72120ff33e5"
   },
   "outputs": [],
   "source": [
    "# Ok, but not recommended\n",
    "print(a_np + a_list)"
   ]
  },
  {
   "cell_type": "code",
   "execution_count": null,
   "metadata": {},
   "outputs": [],
   "source": [
    "# Ok, but not recommended\n",
    "a_list = [1,2,3]\n",
    "c_np = np.array([[1, 2, 3], [4, 5, 6]])\n",
    "print(a_list)\n",
    "print('---')\n",
    "print(c_np)\n",
    "print('---')\n",
    "print(c_np+a_list)"
   ]
  },
  {
   "cell_type": "markdown",
   "metadata": {
    "id": "F2qwdyvuL9hn"
   },
   "source": [
    "### Others functions to create NumPy arrays"
   ]
  },
  {
   "cell_type": "code",
   "execution_count": null,
   "metadata": {
    "colab": {
     "base_uri": "https://localhost:8080/",
     "height": 67
    },
    "id": "mVTN_EBqL9hn",
    "outputId": "7e8b43c0-c38d-45ff-bc89-55bbbb4687c2"
   },
   "outputs": [],
   "source": [
    "# Create an array of all zeros\n",
    "a = np.zeros((3, 3))\n",
    "print(a)"
   ]
  },
  {
   "cell_type": "code",
   "execution_count": null,
   "metadata": {
    "colab": {
     "base_uri": "https://localhost:8080/",
     "height": 50
    },
    "id": "skiKlNmlL9h5",
    "outputId": "3bf326c4-93e9-493d-a876-3401c9545ee2"
   },
   "outputs": [],
   "source": [
    "# Create an array of all ones\n",
    "b = np.ones((2,3))\n",
    "print(b)"
   ]
  },
  {
   "cell_type": "code",
   "execution_count": null,
   "metadata": {
    "colab": {
     "base_uri": "https://localhost:8080/",
     "height": 101
    },
    "id": "HtFsr03bL9h7",
    "outputId": "8539775f-26ba-453e-cad0-153f8676c9c2"
   },
   "outputs": [],
   "source": [
    "# Create a constant array\n",
    "c = np.full((5,5), 10)\n",
    "print(c)"
   ]
  },
  {
   "cell_type": "code",
   "execution_count": null,
   "metadata": {
    "colab": {
     "base_uri": "https://localhost:8080/",
     "height": 101
    },
    "id": "3vtl1H2YgLHO",
    "outputId": "ff07e703-07cf-48f1-e5a3-842188d69d60"
   },
   "outputs": [],
   "source": [
    "c = np.ones((5,5)) * 3\n",
    "print(c)"
   ]
  },
  {
   "cell_type": "code",
   "execution_count": null,
   "metadata": {
    "colab": {
     "base_uri": "https://localhost:8080/",
     "height": 101
    },
    "id": "-QcALHvkL9h9",
    "outputId": "ab1b7ecf-ca3a-4d28-e5d4-263b637efd3d"
   },
   "outputs": [],
   "source": [
    "# Create a 5x5 identity matrix\n",
    "d = np.eye(5)\n",
    "print(d)"
   ]
  },
  {
   "cell_type": "code",
   "execution_count": null,
   "metadata": {
    "colab": {
     "base_uri": "https://localhost:8080/",
     "height": 84
    },
    "id": "RCpaYg9qL9iA",
    "outputId": "5bf31953-49c5-4f5d-8418-4b564a353aed"
   },
   "outputs": [],
   "source": [
    "# Create an array filled with random values\n",
    "e1 = np.random.random((4,4))\n",
    "e2 = np.random.random((4,4))\n",
    "print(e1)\n",
    "print('---')\n",
    "print(e2)"
   ]
  },
  {
   "cell_type": "code",
   "execution_count": null,
   "metadata": {
    "colab": {
     "base_uri": "https://localhost:8080/",
     "height": 84
    },
    "id": "9At7QoXNgy-e",
    "outputId": "a941a9c7-e6a7-4401-be77-abd9f6061a45"
   },
   "outputs": [],
   "source": [
    "np.random.seed(0)\n",
    "e1 = np.random.random((4,4))\n",
    "np.random.seed(0)\n",
    "e2 = np.random.random((4,4))\n",
    "print(e1)\n",
    "print('---')\n",
    "print(e2)"
   ]
  },
  {
   "cell_type": "code",
   "execution_count": null,
   "metadata": {
    "colab": {
     "base_uri": "https://localhost:8080/",
     "height": 84
    },
    "id": "_h86-99fcnkp",
    "outputId": "791ae655-3209-4368-9f4c-966943b0465e"
   },
   "outputs": [],
   "source": [
    "np.random.seed(1)\n",
    "e = np.random.random((4,4))\n",
    "print(e)"
   ]
  },
  {
   "cell_type": "code",
   "execution_count": null,
   "metadata": {
    "colab": {
     "base_uri": "https://localhost:8080/",
     "height": 84
    },
    "id": "Y0jHUs5qgMyJ",
    "outputId": "630120df-afc6-44b5-ba6b-bd990c6da9d8"
   },
   "outputs": [],
   "source": [
    "np.random.seed(1)\n",
    "e = np.random.random((4,4))\n",
    "print(e)"
   ]
  },
  {
   "cell_type": "code",
   "execution_count": null,
   "metadata": {
    "colab": {
     "base_uri": "https://localhost:8080/",
     "height": 34
    },
    "id": "EzGaBA7Q-BB2",
    "outputId": "82c1bf11-7f8a-4a0a-b703-6997515c36bb"
   },
   "outputs": [],
   "source": [
    "# Create an array from a number range\n",
    "f = np.arange(start=1, stop=10, step=2) # Stop(excluding from range)\n",
    "print(f)"
   ]
  },
  {
   "cell_type": "markdown",
   "metadata": {
    "id": "jI5qcSDfL9iC"
   },
   "source": [
    "# Array indexing"
   ]
  },
  {
   "cell_type": "code",
   "execution_count": null,
   "metadata": {
    "colab": {
     "base_uri": "https://localhost:8080/",
     "height": 67
    },
    "id": "wLWA0udwL9iD",
    "outputId": "1f97cd10-c6fe-4639-bd7c-9effdd832d21"
   },
   "outputs": [],
   "source": [
    "a = np.array([[1, 2, 3, 4], [5, 6, 7, 8], [9, 10 , 11, 12]])\n",
    "print(a)"
   ]
  },
  {
   "cell_type": "code",
   "execution_count": null,
   "metadata": {
    "colab": {
     "base_uri": "https://localhost:8080/",
     "height": 50
    },
    "id": "nPOE61CygXNC",
    "outputId": "172faf29-79d2-4fee-8445-6f5cc1bb3432"
   },
   "outputs": [],
   "source": [
    "print(a[0])\n",
    "print(a[1][1])"
   ]
  },
  {
   "cell_type": "markdown",
   "metadata": {},
   "source": [
    "# Array slicing\n",
    "Similar to Python lists, numpy arrays can be sliced. Since arrays may be multidimensional, you must specify a slice for each dimension of the array. \n",
    "```python\n",
    "array[start_row : stop_row (exclude), start_column : stop_column(exclude), ...]\n",
    "``` \n"
   ]
  },
  {
   "cell_type": "code",
   "execution_count": null,
   "metadata": {
    "colab": {
     "base_uri": "https://localhost:8080/",
     "height": 50
    },
    "id": "Ss2aqOTq0ciq",
    "outputId": "76837a15-b483-40f1-c60b-25482ee8da88"
   },
   "outputs": [],
   "source": [
    "print(a[0:2, 0:2])\n",
    "print('---')\n",
    "print(a[1: , 2: ])\n",
    "print('---')\n",
    "print(a[:2 , 1:3])"
   ]
  },
  {
   "cell_type": "markdown",
   "metadata": {
    "id": "KahhtZKYL9iF"
   },
   "source": [
    "## View concept\n",
    "A slice of an array is a view into the same data, so modifying it will modify the original array."
   ]
  },
  {
   "cell_type": "code",
   "execution_count": null,
   "metadata": {
    "colab": {
     "base_uri": "https://localhost:8080/",
     "height": 67
    },
    "id": "1kmtaFHuL9iG",
    "outputId": "dac844dd-41db-4752-a06c-aba6d784ad05"
   },
   "outputs": [],
   "source": [
    "print(a)"
   ]
  },
  {
   "cell_type": "code",
   "execution_count": null,
   "metadata": {
    "colab": {
     "base_uri": "https://localhost:8080/",
     "height": 34
    },
    "id": "EEqrGYLs1J8z",
    "outputId": "a9a804df-aa9a-41a9-dca8-67d7fb63257c"
   },
   "outputs": [],
   "source": [
    "b = a[1:,1:]\n",
    "print(b[0, 0])\n",
    "print(a[1, 1])"
   ]
  },
  {
   "cell_type": "code",
   "execution_count": null,
   "metadata": {
    "id": "Kz_IBbd6jkom"
   },
   "outputs": [],
   "source": [
    "b[0,0] = 70"
   ]
  },
  {
   "cell_type": "code",
   "execution_count": null,
   "metadata": {
    "colab": {
     "base_uri": "https://localhost:8080/",
     "height": 50
    },
    "id": "9qjCALn-1Ywy",
    "outputId": "35150124-dbc9-4a80-fc5c-e2b54cbf4026"
   },
   "outputs": [],
   "source": [
    "print(b)\n",
    "print('---')\n",
    "print(a)"
   ]
  },
  {
   "cell_type": "markdown",
   "metadata": {
    "id": "kaE8dBGgL9id"
   },
   "source": [
    "# Boolean array indexing\n",
    "Boolean array indexing lets you pick out arbitrary elements of an array. Frequently this type of indexing is used to select the elements of an array that satisfy some condition. Here is an example:"
   ]
  },
  {
   "cell_type": "code",
   "execution_count": null,
   "metadata": {
    "colab": {
     "base_uri": "https://localhost:8080/",
     "height": 67
    },
    "id": "32PusjtKL9id",
    "outputId": "9fe35519-181e-4474-9b86-76e37506f65c"
   },
   "outputs": [],
   "source": [
    "a = np.array([[1,2], [3,4], [5,6]])\n",
    "print(a)"
   ]
  },
  {
   "cell_type": "code",
   "execution_count": null,
   "metadata": {
    "colab": {
     "base_uri": "https://localhost:8080/",
     "height": 67
    },
    "id": "9OjzkuXC20kG",
    "outputId": "fd241641-f3b7-4dd1-d455-a3d61f884e7b"
   },
   "outputs": [],
   "source": [
    "# Find the elements of a that are bigger than 2;\n",
    "bool_idx = (a > 2)\n",
    "print(bool_idx)"
   ]
  },
  {
   "cell_type": "code",
   "execution_count": null,
   "metadata": {
    "colab": {
     "base_uri": "https://localhost:8080/",
     "height": 34
    },
    "id": "cb2IRMXaL9if",
    "outputId": "58ef5cb3-7917-47ce-fc34-cc5b00e7561d"
   },
   "outputs": [],
   "source": [
    "# We use boolean array indexing to construct a rank 1 array\n",
    "# consisting of the elements of a corresponding to the True values\n",
    "# of bool_idx\n",
    "print(a[bool_idx])"
   ]
  },
  {
   "cell_type": "code",
   "execution_count": null,
   "metadata": {
    "colab": {
     "base_uri": "https://localhost:8080/",
     "height": 34
    },
    "id": "5zimtEOp246o",
    "outputId": "92643232-0127-4a70-eafa-a0cc8824da95"
   },
   "outputs": [],
   "source": [
    "# We can do all of the above in a single concise statement:\n",
    "print(a[a>2])"
   ]
  },
  {
   "cell_type": "markdown",
   "metadata": {},
   "source": [
    "## Reshaping array"
   ]
  },
  {
   "cell_type": "code",
   "execution_count": null,
   "metadata": {
    "colab": {
     "base_uri": "https://localhost:8080/",
     "height": 84
    },
    "id": "z9sg0IkLka0U",
    "outputId": "3256c74d-802d-4e4f-da61-1b04366b8898"
   },
   "outputs": [],
   "source": [
    "a = np.array([[1, 2, 3, 4], [5, 6, 7, 8], [9, 10 , 11, 12]])\n",
    "print(a.shape)\n",
    "print(a)"
   ]
  },
  {
   "cell_type": "code",
   "execution_count": null,
   "metadata": {
    "colab": {
     "base_uri": "https://localhost:8080/",
     "height": 67
    },
    "id": "zTyVKaSWiBOd",
    "outputId": "49b73807-fdf2-48e5-f1b3-3f531ff2032a"
   },
   "outputs": [],
   "source": [
    "print(a.reshape(2,6))\n",
    "print(a.reshape(2,6).shape)"
   ]
  },
  {
   "cell_type": "code",
   "execution_count": null,
   "metadata": {
    "colab": {
     "base_uri": "https://localhost:8080/",
     "height": 84
    },
    "id": "R4hJ4a5Mki2B",
    "outputId": "08a0d09f-9520-4116-af11-67c9cf87598d"
   },
   "outputs": [],
   "source": [
    "print(a[a>2].reshape(2,5))"
   ]
  },
  {
   "cell_type": "code",
   "execution_count": null,
   "metadata": {},
   "outputs": [],
   "source": [
    "# One shape dimension can be -1. In this case, \n",
    "# the value is inferred from the length of the array and remaining dimensions.\n",
    "print(a.reshape(-1,3))"
   ]
  },
  {
   "cell_type": "markdown",
   "metadata": {
    "id": "jTctwqdQL9ih"
   },
   "source": [
    "# Datatypes"
   ]
  },
  {
   "cell_type": "markdown",
   "metadata": {
    "id": "kSZQ1WkIL9ih"
   },
   "source": [
    "Every numpy array is a grid of elements of the same type. Numpy provides a large set of numeric datatypes that you can use to construct arrays. Numpy tries to guess a datatype when you create an array, but functions that construct arrays usually also include an optional argument to explicitly specify the datatype. You can read all about numpy datatypes in the documentation [link1](http://docs.scipy.org/doc/numpy/reference/arrays.dtypes.html) or [link2.](https://docs.scipy.org/doc/numpy-1.10.1/user/basics.types.html)"
   ]
  },
  {
   "cell_type": "code",
   "execution_count": null,
   "metadata": {
    "colab": {
     "base_uri": "https://localhost:8080/",
     "height": 34
    },
    "id": "4za4O0m5L9ih",
    "outputId": "3de68399-a227-44ff-dbd9-5ad2a4e0d45d"
   },
   "outputs": [],
   "source": [
    "x = np.array([1, 2])  # Let numpy choose the datatype\n",
    "y = np.array([1.0, 2.0])  # Let numpy choose the datatype\n",
    "z = np.array([1, 2], dtype=np.int64)  # Force a particular datatype\n",
    "o = np.array([1, \"1\", \"1.2\"])\n",
    "\n",
    "print(x.dtype)\n",
    "print(y.dtype)\n",
    "print(z.dtype)\n",
    "print(o.dtype)"
   ]
  },
  {
   "cell_type": "markdown",
   "metadata": {
    "id": "TuB-fdhIL9ik"
   },
   "source": [
    "# Array math\n",
    "Basic mathematical functions operate elementwise on arrays, and are available both as operator overloads and as functions in the numpy module:"
   ]
  },
  {
   "cell_type": "code",
   "execution_count": null,
   "metadata": {
    "colab": {
     "base_uri": "https://localhost:8080/",
     "height": 50
    },
    "id": "gHKvBrSKL9il",
    "outputId": "23db16e6-ed47-4ff8-e189-cc556a08e97a"
   },
   "outputs": [],
   "source": [
    "x = np.array([[3,3],[3,3]], dtype=np.float64)\n",
    "y = np.array([[2,2],[2,2]], dtype=np.float64)\n",
    "print(x)\n",
    "print(y)"
   ]
  },
  {
   "cell_type": "code",
   "execution_count": null,
   "metadata": {
    "colab": {
     "base_uri": "https://localhost:8080/",
     "height": 50
    },
    "id": "DaGLMhti4Kcs",
    "outputId": "a802b2d2-8d02-4f2b-de48-a65ebbb911e5"
   },
   "outputs": [],
   "source": [
    "# Elementwise operation\n",
    "print(x + y)\n",
    "print('---')\n",
    "print(x - y)\n",
    "print('---')\n",
    "print(x * y)\n",
    "print('---')\n",
    "print(x / y)"
   ]
  },
  {
   "cell_type": "code",
   "execution_count": null,
   "metadata": {
    "colab": {
     "base_uri": "https://localhost:8080/",
     "height": 50
    },
    "id": "jXPx49Dq4Xct",
    "outputId": "7a3278d4-aed7-4ea2-c076-3783b3f8a7dd"
   },
   "outputs": [],
   "source": [
    "# Elementwise operation\n",
    "print(np.add(x, y))\n",
    "print('---')\n",
    "print(np.subtract(x, y))\n",
    "print('---')\n",
    "print(np.multiply(x, y))\n",
    "print('---')\n",
    "print(np.divide(x, y))"
   ]
  },
  {
   "cell_type": "code",
   "execution_count": null,
   "metadata": {
    "colab": {
     "base_uri": "https://localhost:8080/",
     "height": 50
    },
    "id": "I3FnmoSeL9iu",
    "outputId": "3cbb4537-fc5d-452c-f3f4-6098cf84be90"
   },
   "outputs": [],
   "source": [
    "# Inner product of vectors\n",
    "v = np.array([1,2])\n",
    "w = np.array([10, 20])\n",
    "\n",
    "#(1*10)+(2*20) = 50\n",
    "print(np.dot(v, w))\n",
    "print(v.dot(w))\n",
    "print(v @ w)"
   ]
  },
  {
   "cell_type": "code",
   "execution_count": null,
   "metadata": {
    "colab": {
     "base_uri": "https://localhost:8080/",
     "height": 50
    },
    "id": "3V_3NzNEL9iy",
    "outputId": "f848fba9-66af-42eb-f218-98bfa838d297"
   },
   "outputs": [],
   "source": [
    "# Matrix / matrix product; both produce the rank 2 array\n",
    "x = np.array([[1,2],[3,4]])\n",
    "y = np.array([[5,6],[7,8]])\n",
    "print(np.dot(x, y))"
   ]
  },
  {
   "cell_type": "markdown",
   "metadata": {
    "id": "FbE-1If_L9i0"
   },
   "source": [
    "# Arrays functions"
   ]
  },
  {
   "cell_type": "code",
   "execution_count": null,
   "metadata": {
    "colab": {
     "base_uri": "https://localhost:8080/",
     "height": 50
    },
    "id": "DZUdZvPrL9i0",
    "outputId": "677dd2e4-48f3-4507-9f37-bd0f5477d8a1"
   },
   "outputs": [],
   "source": [
    "x = np.array([[1,2],[3,4]])\n",
    "print(x)"
   ]
  },
  {
   "cell_type": "code",
   "execution_count": null,
   "metadata": {
    "colab": {
     "base_uri": "https://localhost:8080/",
     "height": 34
    },
    "id": "nqSNmvuq6HLt",
    "outputId": "c09e37e8-c3fa-4d6c-94ab-1a72ccfc867b"
   },
   "outputs": [],
   "source": [
    "# Compute sum of all elements\n",
    "print(x.sum())"
   ]
  },
  {
   "cell_type": "code",
   "execution_count": null,
   "metadata": {
    "colab": {
     "base_uri": "https://localhost:8080/",
     "height": 34
    },
    "id": "V4Ytlhid6LY8",
    "outputId": "85ac212e-2467-430e-d70b-e6b2ca43ffe3"
   },
   "outputs": [],
   "source": [
    "# Compute sum of each column\n",
    "print(x.sum(axis=0))"
   ]
  },
  {
   "cell_type": "code",
   "execution_count": null,
   "metadata": {
    "colab": {
     "base_uri": "https://localhost:8080/",
     "height": 34
    },
    "id": "LI8aicTw6VU-",
    "outputId": "d93a4bb6-e414-4c97-bcc2-9080db8f88c0"
   },
   "outputs": [],
   "source": [
    "# Compute sum of each row\n",
    "print(x.sum(axis=1))"
   ]
  },
  {
   "cell_type": "code",
   "execution_count": null,
   "metadata": {
    "colab": {
     "base_uri": "https://localhost:8080/",
     "height": 34
    },
    "id": "noXbNT6dn2aH",
    "outputId": "deeb3d90-cb6f-4b93-c4c9-5db19239517f"
   },
   "outputs": [],
   "source": [
    "print(np.sum(x, axis=1))"
   ]
  },
  {
   "cell_type": "code",
   "execution_count": null,
   "metadata": {
    "colab": {
     "base_uri": "https://localhost:8080/",
     "height": 34
    },
    "id": "SZeDQr7Cn8E9",
    "outputId": "7d31adb8-0f5c-4d4b-8b85-8d5e1828b4af"
   },
   "outputs": [],
   "source": [
    "print(x.mean())"
   ]
  },
  {
   "cell_type": "code",
   "execution_count": null,
   "metadata": {
    "colab": {
     "base_uri": "https://localhost:8080/",
     "height": 34
    },
    "id": "m4JK2WAaoCXx",
    "outputId": "3da41124-e0f0-4702-a496-965ab7c04059"
   },
   "outputs": [],
   "source": [
    "print(x.max())"
   ]
  },
  {
   "cell_type": "code",
   "execution_count": null,
   "metadata": {
    "colab": {
     "base_uri": "https://localhost:8080/",
     "height": 34
    },
    "id": "edqZhtOmoFYN",
    "outputId": "7542885c-c0d3-41b3-fc4a-afe263274735"
   },
   "outputs": [],
   "source": [
    "print(x.min())"
   ]
  }
 ],
 "metadata": {
  "colab": {
   "collapsed_sections": [],
   "name": "Copy of Basic_Python_Super_AI_Part3.ipynb",
   "provenance": []
  },
  "kernelspec": {
   "display_name": "Python 3",
   "language": "python",
   "name": "python3"
  },
  "language_info": {
   "codemirror_mode": {
    "name": "ipython",
    "version": 3
   },
   "file_extension": ".py",
   "mimetype": "text/x-python",
   "name": "python",
   "nbconvert_exporter": "python",
   "pygments_lexer": "ipython3",
   "version": "3.9.1-final"
  }
 },
 "nbformat": 4,
 "nbformat_minor": 1
}