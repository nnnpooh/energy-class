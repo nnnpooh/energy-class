{
 "cells": [
  {
   "cell_type": "markdown",
   "metadata": {},
   "source": [
    "# Collection\n",
    "There are 4 built-in data types in Python used to store collections of data.\n",
    "* List\n",
    "* Dictionary\n",
    "* Tuple\n",
    "* Set"
   ]
  },
  {
   "cell_type": "markdown",
   "metadata": {
    "id": "CmckZOw4riFV"
   },
   "source": [
    "## List\n",
    "Lists are used to store multiple items in a single variable."
   ]
  },
  {
   "cell_type": "code",
   "execution_count": null,
   "metadata": {},
   "outputs": [],
   "source": [
    "bicycles = ['trek', 'cannondale', 'redline', 'specialized']\n",
    "print(bicycles)\n",
    "print(bicycles[0])\n",
    "print(bicycles[0].title())"
   ]
  },
  {
   "cell_type": "markdown",
   "metadata": {},
   "source": [
    "List can contain any anything i.e. datatype, function, object, variables etc. "
   ]
  },
  {
   "cell_type": "code",
   "execution_count": null,
   "metadata": {
    "colab": {
     "base_uri": "https://localhost:8080/",
     "height": 34
    },
    "id": "Oc3x-E4hrlQO",
    "outputId": "d6d7cb63-be9a-4755-cdfc-6c6d59a2fd85"
   },
   "outputs": [],
   "source": [
    "x = [1,2,3,4,5]\n",
    "y = ['hi',1,3,x]\n",
    "z = x + y\n",
    "z"
   ]
  },
  {
   "cell_type": "markdown",
   "metadata": {
    "id": "JwyCPrRWtEGd"
   },
   "source": [
    "### Access element in LIST"
   ]
  },
  {
   "cell_type": "code",
   "execution_count": null,
   "metadata": {
    "colab": {
     "base_uri": "https://localhost:8080/",
     "height": 34
    },
    "id": "4j2NFF3XtHlq",
    "outputId": "91544162-481a-4139-d683-2dac03ca3ab6"
   },
   "outputs": [],
   "source": [
    "bicycles = ['trek', 'cannondale', 'redline', 'specialized']\n",
    "print(bicycles[0])\n",
    "print(bicycles[1])\n",
    "print(bicycles[-1])\n",
    "print(bicycles[-2])\n",
    "print(bicycles[0:2])"
   ]
  },
  {
   "cell_type": "markdown",
   "metadata": {
    "colab": {
     "base_uri": "https://localhost:8080/",
     "height": 34
    },
    "id": "OJ6YNzSUtmWr",
    "outputId": "913d57da-b98d-496b-d651-9f76aefcabd7"
   },
   "source": [
    "### Modify element in LIST"
   ]
  },
  {
   "cell_type": "code",
   "execution_count": null,
   "metadata": {},
   "outputs": [],
   "source": [
    "motorcycles = ['honda', 'yamaha', 'suzuki']\n",
    "print(motorcycles)\n",
    "motorcycles[0] = 'ducati'\n",
    "print(motorcycles)"
   ]
  },
  {
   "cell_type": "markdown",
   "metadata": {},
   "source": [
    "### Add items"
   ]
  },
  {
   "cell_type": "code",
   "execution_count": null,
   "metadata": {},
   "outputs": [],
   "source": [
    "motorcycles = []\n",
    "motorcycles.append('honda')\n",
    "motorcycles.append('yamaha')\n",
    "motorcycles.append('suzuki')\n",
    "print(motorcycles)"
   ]
  },
  {
   "cell_type": "markdown",
   "metadata": {},
   "source": [
    "### Remove items"
   ]
  },
  {
   "cell_type": "code",
   "execution_count": null,
   "metadata": {},
   "outputs": [],
   "source": [
    "motorcycles = ['honda', 'yamaha', 'suzuki', 'BMW']\n",
    "print(motorcycles)\n",
    "motorcycles.remove('yamaha')\n",
    "print(motorcycles)"
   ]
  },
  {
   "cell_type": "code",
   "execution_count": null,
   "metadata": {},
   "outputs": [],
   "source": [
    "motorcycles.pop(0)\n",
    "print(motorcycles)"
   ]
  },
  {
   "cell_type": "code",
   "execution_count": null,
   "metadata": {},
   "outputs": [],
   "source": [
    "del motorcycles[1]\n",
    "print(motorcycles)"
   ]
  },
  {
   "cell_type": "markdown",
   "metadata": {
    "id": "QHJq5cBXsEAA"
   },
   "source": [
    "## Dictionary\n",
    "Dictionaries are used to store data values in key:value pairs."
   ]
  },
  {
   "cell_type": "markdown",
   "metadata": {
    "id": "Xs-Vwpl6t-su"
   },
   "source": [
    "### Creating dictionary"
   ]
  },
  {
   "cell_type": "code",
   "execution_count": null,
   "metadata": {},
   "outputs": [],
   "source": [
    "mydic = {} \n",
    "mydic['winn'] = '0618201998'\n",
    "mydic['ricky'] = '0812312341'\n",
    "print(mydic)"
   ]
  },
  {
   "cell_type": "code",
   "execution_count": null,
   "metadata": {},
   "outputs": [],
   "source": [
    "number_dict = {1:\"one\",2:\"two\",3:\"three\"}\n",
    "print(number_dict)"
   ]
  },
  {
   "cell_type": "markdown",
   "metadata": {
    "id": "pyK3MifGuB41"
   },
   "source": [
    "### Adding information"
   ]
  },
  {
   "cell_type": "code",
   "execution_count": null,
   "metadata": {
    "id": "5sJ-05a8-vWg"
   },
   "outputs": [],
   "source": [
    "mydic[\"arm\"] = \"4548885656\""
   ]
  },
  {
   "cell_type": "code",
   "execution_count": null,
   "metadata": {
    "colab": {
     "base_uri": "https://localhost:8080/",
     "height": 91
    },
    "id": "dGuI9oc3-zQH",
    "outputId": "0c4e55fb-e51f-42bd-9dd5-c0d393b9582e"
   },
   "outputs": [],
   "source": [
    "mydic"
   ]
  },
  {
   "cell_type": "markdown",
   "metadata": {
    "id": "SjFNN09YuIO2"
   },
   "source": [
    "### Create dictionary from list"
   ]
  },
  {
   "cell_type": "code",
   "execution_count": null,
   "metadata": {
    "colab": {
     "base_uri": "https://localhost:8080/",
     "height": 36
    },
    "id": "anTmi3WPuJp3",
    "outputId": "755b6eda-f0fc-4762-a040-46f408b8ce0b"
   },
   "outputs": [],
   "source": [
    "a = [[\"winn\",'0618201998'],[\"ricky\",'0812312341']]\n",
    "print(a)\n",
    "b = dict(a)\n",
    "print(b)"
   ]
  },
  {
   "cell_type": "code",
   "execution_count": null,
   "metadata": {
    "colab": {
     "base_uri": "https://localhost:8080/",
     "height": 36
    },
    "id": "__iN39PA_SzM",
    "outputId": "f9c2eaed-f1d1-4123-e0ae-a96e36a896a5"
   },
   "outputs": [],
   "source": [
    "name = [\"winn\",\"ricky\"]\n",
    "tel = ['0618201998','0812312341']\n",
    "b = dict(zip(name,tel))\n",
    "print(b)"
   ]
  },
  {
   "cell_type": "markdown",
   "metadata": {},
   "source": [
    "### Accessing elements"
   ]
  },
  {
   "cell_type": "code",
   "execution_count": null,
   "metadata": {},
   "outputs": [],
   "source": [
    "print(mydic)\n",
    "mydic['winn']"
   ]
  },
  {
   "cell_type": "markdown",
   "metadata": {
    "id": "nHfwHArcuMzP"
   },
   "source": [
    "### Removing element"
   ]
  },
  {
   "cell_type": "code",
   "execution_count": null,
   "metadata": {
    "id": "QHmMo8Tt_j10"
   },
   "outputs": [],
   "source": [
    "mydic = {'arm': '000000000',\n",
    "         'ricky': '0812312341',\n",
    "         'winn': '0618201998',\n",
    "         'tao':'0811111111'}\n",
    "print(mydic)\n",
    "del mydic['tao']\n",
    "print(mydic)"
   ]
  },
  {
   "cell_type": "code",
   "execution_count": null,
   "metadata": {},
   "outputs": [],
   "source": [
    "mydic.pop('ricky')\n",
    "print(mydic)"
   ]
  },
  {
   "cell_type": "markdown",
   "metadata": {},
   "source": [
    "### Extract keys and values"
   ]
  },
  {
   "cell_type": "code",
   "execution_count": null,
   "metadata": {
    "colab": {
     "base_uri": "https://localhost:8080/",
     "height": 36
    },
    "id": "KCjRZBUouNpn",
    "outputId": "006455f5-6819-49ff-f7c1-333b9f14842b"
   },
   "outputs": [],
   "source": [
    "print(list(mydic.keys()))\n",
    "print(list(mydic.values()))"
   ]
  },
  {
   "cell_type": "markdown",
   "metadata": {},
   "source": [
    "### Dictionary inside a dictionary"
   ]
  },
  {
   "cell_type": "code",
   "execution_count": null,
   "metadata": {
    "id": "FkHJLl4TucPd"
   },
   "outputs": [],
   "source": [
    "winninfo = {'telephone':'0618201998','email':'vwinnv@gmail.com'}\n",
    "kitimainfo = {'telephone':'0812314123','email':'kitima@gmail.com'}\n",
    "nonginfo = {'telephone':'092123123123','email':'nong@gmail.com'}\n",
    "mydic = {'winn':winninfo,'kitima':kitimainfo,'nong':nonginfo}\n",
    "print(mydic)"
   ]
  },
  {
   "cell_type": "code",
   "execution_count": null,
   "metadata": {
    "colab": {
     "base_uri": "https://localhost:8080/",
     "height": 36
    },
    "id": "Umnf5dWvAsca",
    "outputId": "1a5e02af-6871-4da4-cb45-29c8c37e3475"
   },
   "outputs": [],
   "source": [
    "print(mydic[\"winn\"][\"email\"])\n",
    "print(mydic['nong']['telephone'])"
   ]
  },
  {
   "cell_type": "markdown",
   "metadata": {},
   "source": [
    "# Tuple\n",
    "\n",
    "A tuple is a collection which is ordered and unchangeable."
   ]
  },
  {
   "cell_type": "code",
   "execution_count": null,
   "metadata": {},
   "outputs": [],
   "source": [
    "a = (\"apple\", \"banana\", \"cherry\")\n",
    "print(a)"
   ]
  },
  {
   "cell_type": "code",
   "execution_count": null,
   "metadata": {},
   "outputs": [],
   "source": [
    "print(a[0])"
   ]
  },
  {
   "cell_type": "code",
   "execution_count": null,
   "metadata": {},
   "outputs": [],
   "source": [
    "#This generates error.\n",
    "#a[0] = \"Lemon\""
   ]
  },
  {
   "cell_type": "markdown",
   "metadata": {},
   "source": [
    "# Set\n",
    "Sets are used to store multiple items in a single variable."
   ]
  },
  {
   "cell_type": "code",
   "execution_count": null,
   "metadata": {},
   "outputs": [],
   "source": [
    "#Set does not contain duplicated value\n",
    "a = {\"apple\", \"banana\", \"cherry\", \"apple\"}\n",
    "print(a)"
   ]
  },
  {
   "cell_type": "code",
   "execution_count": null,
   "metadata": {},
   "outputs": [],
   "source": [
    "# Set does not support indexing\n",
    "# print(a[0])"
   ]
  },
  {
   "cell_type": "code",
   "execution_count": null,
   "metadata": {},
   "outputs": [],
   "source": [
    "#Convert set into list\n",
    "b = list(a)\n",
    "print(b[0])"
   ]
  }
 ],
 "metadata": {
  "colab": {
   "collapsed_sections": [],
   "name": "Basic Python Part 1.ipynb",
   "provenance": []
  },
  "kernelspec": {
   "display_name": "Python 3",
   "language": "python",
   "name": "python3"
  },
  "language_info": {
   "codemirror_mode": {
    "name": "ipython",
    "version": 3
   },
   "file_extension": ".py",
   "mimetype": "text/x-python",
   "name": "python",
   "nbconvert_exporter": "python",
   "pygments_lexer": "ipython3",
   "version": "3.8.3"
  }
 },
 "nbformat": 4,
 "nbformat_minor": 1
}
