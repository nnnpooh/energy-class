{
 "metadata": {
  "language_info": {
   "codemirror_mode": {
    "name": "ipython",
    "version": 3
   },
   "file_extension": ".py",
   "mimetype": "text/x-python",
   "name": "python",
   "nbconvert_exporter": "python",
   "pygments_lexer": "ipython3",
   "version": "3.7.9"
  },
  "orig_nbformat": 2,
  "kernelspec": {
   "name": "python3",
   "display_name": "Python 3",
   "language": "python"
  }
 },
 "nbformat": 4,
 "nbformat_minor": 2,
 "cells": [
  {
   "source": [
    "# SARIMA\n",
    "- Air Quality Data in India\n",
    "- https://www.kaggle.com/rohanrao/air-quality-data-in-india\n",
    "- city_day.csv"
   ],
   "cell_type": "markdown",
   "metadata": {}
  },
  {
   "source": [
    "## Setting up"
   ],
   "cell_type": "markdown",
   "metadata": {}
  },
  {
   "cell_type": "code",
   "execution_count": null,
   "metadata": {},
   "outputs": [],
   "source": [
    "# Check package version\n",
    "from packaging import version\n",
    "import statsmodels\n",
    "\n",
    "if version.parse(statsmodels.__version__) < version.parse('0.12.1'):\n",
    "  !pip install statsmodels==0.12.1"
   ]
  },
  {
   "cell_type": "code",
   "execution_count": null,
   "metadata": {},
   "outputs": [],
   "source": [
    "#Perform Dickey-Fuller test:\n",
    "from statsmodels.tsa.stattools import adfuller\n",
    "def adf_test(timeseries):\n",
    "    print ('Results of Dickey-Fuller Test:')\n",
    "    dftest = adfuller(timeseries, autolag='AIC')\n",
    "    dfoutput = pd.Series(dftest[0:4], index=['Test Statistic','p-value','#Lags Used','Number of Observations Used'])\n",
    "    for key,value in dftest[4].items():\n",
    "       dfoutput['Critical Value (%s)'%key] = value\n",
    "    print (dfoutput)\n",
    "# kpss_test\n",
    "from statsmodels.tsa.stattools import kpss\n",
    "def kpss_test(timeseries):\n",
    "    print ('Results of KPSS Test:')\n",
    "    kpsstest = kpss(timeseries, regression='c')\n",
    "    kpss_output = pd.Series(kpsstest[0:3], index=['Test Statistic','p-value','Lags Used'])\n",
    "    for key,value in kpsstest[3].items():\n",
    "      kpss_output['Critical Value (%s)'%key] = value\n",
    "    print (kpss_output)"
   ]
  },
  {
   "source": [
    "# Data preparation"
   ],
   "cell_type": "markdown",
   "metadata": {}
  },
  {
   "source": [
    "## Load data"
   ],
   "cell_type": "markdown",
   "metadata": {}
  },
  {
   "cell_type": "code",
   "execution_count": null,
   "metadata": {},
   "outputs": [],
   "source": [
    "import pandas as pd\n",
    "#df_all = pd.read_csv('city_day.csv')\n",
    "df_all = pd.read_csv('https://github.com/nnnpooh/energy-class/blob/main/T3%20-%20ARIMA/city_day.csv?raw=true')\n",
    "df_all.head()"
   ]
  },
  {
   "cell_type": "code",
   "execution_count": null,
   "metadata": {},
   "outputs": [],
   "source": [
    "# Filter only Delhi\n",
    "df_delhi = df_all.loc[df_all['City'] == 'Delhi'].copy()\n",
    "df_delhi.head()"
   ]
  },
  {
   "cell_type": "code",
   "execution_count": null,
   "metadata": {},
   "outputs": [],
   "source": [
    "# Choose 2 columns\n",
    "df_delhi = df_delhi[['Date','AQI']]\n",
    "df_delhi.head()"
   ]
  },
  {
   "cell_type": "code",
   "execution_count": null,
   "metadata": {},
   "outputs": [],
   "source": [
    "# Set index\n",
    "df_delhi['Date'] = pd.to_datetime(df_delhi['Date'])\n",
    "df = df_delhi.set_index('Date')\n",
    "df.head()"
   ]
  },
  {
   "cell_type": "code",
   "execution_count": null,
   "metadata": {},
   "outputs": [],
   "source": [
    "df.describe()"
   ]
  },
  {
   "cell_type": "code",
   "execution_count": null,
   "metadata": {},
   "outputs": [],
   "source": [
    "df.info()"
   ]
  },
  {
   "cell_type": "code",
   "execution_count": null,
   "metadata": {},
   "outputs": [],
   "source": [
    "import matplotlib.pyplot as plt\n",
    "df.plot(figsize=(10, 3))\n",
    "plt.show()"
   ]
  },
  {
   "source": [
    "## Resample data"
   ],
   "cell_type": "markdown",
   "metadata": {}
  },
  {
   "cell_type": "code",
   "execution_count": null,
   "metadata": {},
   "outputs": [],
   "source": [
    "max_sample = -1\n",
    "df_avg = df['AQI'].resample('MS').mean()\n",
    "if max_sample > 0:\n",
    "    df_avg = df_avg.iloc[-max_sample-1:-1]\n",
    "display(df_avg.describe())\n",
    "\n",
    "#Convert result to DataFrame\n",
    "df_avg = pd.DataFrame(df_avg)"
   ]
  },
  {
   "cell_type": "code",
   "execution_count": null,
   "metadata": {},
   "outputs": [],
   "source": [
    "#Check for NaN values\n",
    "#df_avg.info()\n",
    "#df_avg[df_avg.isna().any(axis=1)]"
   ]
  },
  {
   "cell_type": "code",
   "execution_count": null,
   "metadata": {},
   "outputs": [],
   "source": [
    "df_avg.plot(figsize=(10, 3))\n",
    "plt.show()"
   ]
  },
  {
   "cell_type": "code",
   "execution_count": null,
   "metadata": {},
   "outputs": [],
   "source": [
    "from statsmodels.graphics.tsaplots import plot_acf, plot_pacf\n",
    "plot_acf(df_avg, lags=30)\n",
    "plot_pacf(df_avg, lags=30)\n",
    "plt.show()"
   ]
  },
  {
   "cell_type": "code",
   "execution_count": null,
   "metadata": {},
   "outputs": [],
   "source": [
    "import statsmodels.api as sm\n",
    "decomposition = sm.tsa.seasonal_decompose(df_avg, model='additive')\n",
    "fig = decomposition.plot()\n",
    "fig.set_size_inches(11,8)"
   ]
  },
  {
   "cell_type": "code",
   "execution_count": null,
   "metadata": {},
   "outputs": [],
   "source": [
    "adf_test(df_avg)\n",
    "kpss_test(df_avg)"
   ]
  },
  {
   "source": [
    "## Test for stationariy and seasonality"
   ],
   "cell_type": "markdown",
   "metadata": {}
  },
  {
   "cell_type": "code",
   "execution_count": null,
   "metadata": {},
   "outputs": [],
   "source": [
    "df_diff = df_avg.diff(1).diff(12).dropna()\n",
    "plot_acf(df_diff, lags=20)\n",
    "plot_pacf(df_diff, lags=20)\n",
    "fig, ax = plt.subplots(figsize=(10, 3))\n",
    "df_diff.plot(ax=ax)\n",
    "plt.show()\n",
    "adf_test(df_diff)\n",
    "kpss_test(df_diff)"
   ]
  },
  {
   "source": [
    "# Model selection"
   ],
   "cell_type": "markdown",
   "metadata": {}
  },
  {
   "cell_type": "code",
   "execution_count": null,
   "metadata": {},
   "outputs": [],
   "source": [
    "import itertools\n",
    "p = [0,1,2]\n",
    "d = [1]\n",
    "q = [0,1,2]\n",
    "P = [0,1]\n",
    "D = [1]\n",
    "Q = [0,1]\n",
    "lag = [12]\n",
    "params = list(itertools.product(p, d, q, P, D, Q, lag))\n",
    "print(f\"Number of models to test: {len(params)}\")"
   ]
  },
  {
   "cell_type": "code",
   "execution_count": null,
   "metadata": {
    "tags": []
   },
   "outputs": [],
   "source": [
    "from statsmodels.tsa.statespace.sarimax import SARIMAX\n",
    "import numpy as np\n",
    "df_results = pd.DataFrame()\n",
    "for param in params:\n",
    "    pdq = param[0:3]\n",
    "    PDQL = param[3:7]\n",
    "    try:\n",
    "        mod = SARIMAX(df_avg, order=pdq, seasonal_order=PDQL)\n",
    "        results = mod.fit(method = 'powell',start_params=np.random.random(7))\n",
    "        data = {'param': pdq, 'param_seasonal': PDQL, 'AIC':results.aic }\n",
    "        df_results = df_results.append(data, ignore_index=True)\n",
    "    except:\n",
    "        continue\n",
    "df_results = df_results.sort_values(by='AIC',ascending=True)"
   ]
  },
  {
   "cell_type": "code",
   "execution_count": null,
   "metadata": {},
   "outputs": [],
   "source": [
    "df_results"
   ]
  },
  {
   "source": [
    "# Model training"
   ],
   "cell_type": "markdown",
   "metadata": {}
  },
  {
   "cell_type": "code",
   "execution_count": null,
   "metadata": {},
   "outputs": [],
   "source": [
    "rank = 1\n",
    "pdq = df_results.iloc[rank-1,1]\n",
    "PDQL = df_results.iloc[rank-1,2]\n",
    "\n",
    "print(f\"Using ({pdq[0]},{pdq[1]},{pdq[2]})({PDQL[0]},{PDQL[1]},{PDQL[2]},{PDQL[3]})\")\n",
    "\n",
    "mod = SARIMAX(df_avg, order=pdq, seasonal_order=PDQL)\n",
    "results = mod.fit(method = 'powell', start_params=np.random.random(7))"
   ]
  },
  {
   "source": [
    "# Model evaluation"
   ],
   "cell_type": "markdown",
   "metadata": {}
  },
  {
   "cell_type": "code",
   "execution_count": null,
   "metadata": {},
   "outputs": [],
   "source": [
    "fig = results.plot_diagnostics(figsize=(10, 6))\n",
    "fig.tight_layout()"
   ]
  },
  {
   "cell_type": "code",
   "execution_count": null,
   "metadata": {},
   "outputs": [],
   "source": [
    "pred = results.get_prediction(start=df_avg.index[1], end=df_avg.index[-1], dynamic=False)\n",
    "comb = pd.concat([df_avg, pred.predicted_mean], axis=1).dropna()\n",
    "comb['error'] = comb.iloc[:,0] - comb.iloc[:,1]\n",
    "comb['percentage'] = comb['error']/comb.iloc[:,0]*100\n",
    "\n",
    "MAE = comb['error'].abs().mean()\n",
    "RMSE = np.sqrt((comb['error']**2).mean())\n",
    "MAPE = comb['percentage'].abs().mean()\n",
    "\n",
    "print(f\"Mean absolute error: {MAE:6.3f}\")\n",
    "print(f\"Root mean squared error: {RMSE:6.3f}\")\n",
    "print(f\"Mean absolute percentage error: {MAPE:6.3f}\")"
   ]
  },
  {
   "source": [
    "# Plotting and forecasting"
   ],
   "cell_type": "markdown",
   "metadata": {}
  },
  {
   "cell_type": "code",
   "execution_count": null,
   "metadata": {},
   "outputs": [],
   "source": [
    "num_forecast = 10\n",
    "\n",
    "start_dt = df_avg.index[10]\n",
    "end_dt_data = df_avg.index[-1]\n",
    "if num_forecast > 0:\n",
    "    end_dt = end_dt_data + num_forecast * end_dt_data.freq\n",
    "else:\n",
    "    end_dt = end_dt_data\n",
    "\n",
    "print(start_dt)\n",
    "print(end_dt)"
   ]
  },
  {
   "cell_type": "code",
   "execution_count": null,
   "metadata": {},
   "outputs": [],
   "source": [
    "pred = results.get_prediction(start=pd.to_datetime(start_dt), end=pd.to_datetime(end_dt), dynamic=False)\n",
    "pred_ci = pred.conf_int()\n",
    "ax = df_avg.plot(label='Observed')\n",
    "pred.predicted_mean.plot(ax=ax, label='Prediction', alpha=.8, figsize=(14, 6))\n",
    "ax.fill_between(pred_ci.index,\n",
    "                pred_ci.iloc[:, 0],\n",
    "                pred_ci.iloc[:, 1], color='k', alpha=.2)\n",
    "ax.set_xlabel('Date')\n",
    "ax.set_ylabel('Y')\n",
    "ax.set_xlim(start_dt,end_dt)\n",
    "yp_max = pred.predicted_mean.max()\n",
    "yp_min = pred.predicted_mean.min()\n",
    "yp_mean = pred.predicted_mean.mean()\n",
    "ax.set_ylim(yp_min-0.1*yp_mean,yp_max+0.1*yp_mean)\n",
    "plt.legend()\n",
    "plt.show()"
   ]
  },
  {
   "cell_type": "code",
   "execution_count": null,
   "metadata": {},
   "outputs": [],
   "source": [
    "pred.predicted_mean.min()*0.9"
   ]
  },
  {
   "cell_type": "code",
   "execution_count": null,
   "metadata": {},
   "outputs": [],
   "source": [
    "if num_forecast > 0:\n",
    "    display(pred.predicted_mean.loc[end_dt_data:end_dt])"
   ]
  }
 ]
}