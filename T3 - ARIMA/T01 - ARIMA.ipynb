{
 "cells": [
  {
   "cell_type": "markdown",
   "metadata": {},
   "source": [
    "# ARIMA\n",
    "- Website usage\n",
    "- https://raw.githubusercontent.com/nnnpooh/energy-class/main/T2%20-%20ARIMA/www_usage.csv\n",
    "- Adapted from https://raw.githubusercontent.com/selva86/datasets/master/wwwusage.csv "
   ]
  },
  {
   "cell_type": "markdown",
   "metadata": {},
   "source": [
    "## Setting up"
   ]
  },
  {
   "cell_type": "code",
   "execution_count": null,
   "metadata": {},
   "outputs": [],
   "source": [
    "# Check package version\n",
    "from packaging import version\n",
    "import statsmodels\n",
    "\n",
    "if version.parse(statsmodels.__version__) < version.parse('0.12.1'):\n",
    "  !pip install statsmodels==0.12.1"
   ]
  },
  {
   "cell_type": "code",
   "execution_count": null,
   "metadata": {},
   "outputs": [],
   "source": [
    "#Perform Dickey-Fuller test:\n",
    "from statsmodels.tsa.stattools import adfuller\n",
    "def adf_test(timeseries):\n",
    "    print ('Results of Dickey-Fuller Test:')\n",
    "    dftest = adfuller(timeseries, autolag='AIC')\n",
    "    dfoutput = pd.Series(dftest[0:4], index=['Test Statistic','p-value','#Lags Used','Number of Observations Used'])\n",
    "    for key,value in dftest[4].items():\n",
    "       dfoutput['Critical Value (%s)'%key] = value\n",
    "    print (dfoutput)\n",
    "# kpss_test\n",
    "from statsmodels.tsa.stattools import kpss\n",
    "def kpss_test(timeseries):\n",
    "    print ('Results of KPSS Test:')\n",
    "    kpsstest = kpss(timeseries, regression='c')\n",
    "    kpss_output = pd.Series(kpsstest[0:3], index=['Test Statistic','p-value','Lags Used'])\n",
    "    for key,value in kpsstest[3].items():\n",
    "      kpss_output['Critical Value (%s)'%key] = value\n",
    "    print (kpss_output)"
   ]
  },
  {
   "cell_type": "markdown",
   "metadata": {},
   "source": [
    "# Data preparation"
   ]
  },
  {
   "cell_type": "markdown",
   "metadata": {},
   "source": [
    "## Load data"
   ]
  },
  {
   "cell_type": "code",
   "execution_count": null,
   "metadata": {},
   "outputs": [],
   "source": [
    "import pandas as pd\n",
    "#df_all = pd.read_csv('www_usage.csv')\n",
    "df_all = pd.read_csv('https://raw.githubusercontent.com/nnnpooh/energy-class/main/T3%20-%20ARIMA/www_usage.csv')\n",
    "df_all.head()"
   ]
  },
  {
   "cell_type": "code",
   "execution_count": null,
   "metadata": {},
   "outputs": [],
   "source": [
    "df_all['date'] = pd.to_datetime(df_all['date'])\n",
    "df = df_all.set_index('date')\n",
    "df.index.freq ='D'\n",
    "df.head()"
   ]
  },
  {
   "cell_type": "code",
   "execution_count": null,
   "metadata": {},
   "outputs": [],
   "source": [
    "df.describe()"
   ]
  },
  {
   "cell_type": "code",
   "execution_count": null,
   "metadata": {},
   "outputs": [],
   "source": [
    "df.info()"
   ]
  },
  {
   "cell_type": "code",
   "execution_count": null,
   "metadata": {},
   "outputs": [],
   "source": [
    "import matplotlib.pyplot as plt\n",
    "df.plot(figsize=(10, 3))\n",
    "plt.show()"
   ]
  },
  {
   "cell_type": "code",
   "execution_count": null,
   "metadata": {},
   "outputs": [],
   "source": [
    "# Let me change the variable name\n",
    "df_avg = df.copy()"
   ]
  },
  {
   "cell_type": "code",
   "execution_count": null,
   "metadata": {},
   "outputs": [],
   "source": [
    "from statsmodels.graphics.tsaplots import plot_acf, plot_pacf\n",
    "plot_acf(df_avg, lags=30)\n",
    "plot_pacf(df_avg, lags=30)\n",
    "plt.show()"
   ]
  },
  {
   "cell_type": "code",
   "execution_count": null,
   "metadata": {},
   "outputs": [],
   "source": [
    "import statsmodels.api as sm\n",
    "decomposition = sm.tsa.seasonal_decompose(df_avg, model='additive')\n",
    "fig = decomposition.plot()\n",
    "fig.set_size_inches(11,8)"
   ]
  },
  {
   "cell_type": "code",
   "execution_count": null,
   "metadata": {},
   "outputs": [],
   "source": [
    "adf_test(df_avg)\n",
    "kpss_test(df_avg)"
   ]
  },
  {
   "cell_type": "markdown",
   "metadata": {},
   "source": [
    "## Test for stationariy and seasonality"
   ]
  },
  {
   "cell_type": "code",
   "execution_count": null,
   "metadata": {},
   "outputs": [],
   "source": [
    "df_diff = df_avg.diff(1).diff(1).dropna()\n",
    "plot_acf(df_diff, lags=30)\n",
    "plot_pacf(df_diff, lags=30)\n",
    "fig, ax = plt.subplots(figsize=(10, 3))\n",
    "df_diff.plot(ax=ax)\n",
    "plt.show()\n",
    "adf_test(df_diff)\n",
    "kpss_test(df_diff)"
   ]
  },
  {
   "cell_type": "markdown",
   "metadata": {},
   "source": [
    "# Model selection"
   ]
  },
  {
   "cell_type": "code",
   "execution_count": null,
   "metadata": {},
   "outputs": [],
   "source": [
    "import itertools\n",
    "p = [0,1,2]\n",
    "d = [0,1,2]\n",
    "q = [0,1,2]\n",
    "params = list(itertools.product(p, d, q))\n",
    "print(f\"Number of models to test: {len(params)}\")"
   ]
  },
  {
   "cell_type": "code",
   "execution_count": null,
   "metadata": {
    "tags": []
   },
   "outputs": [],
   "source": [
    "from statsmodels.tsa.arima.model import ARIMA\n",
    "import numpy as np\n",
    "\n",
    "df_results = pd.DataFrame()\n",
    "for param in params:\n",
    "    pdq = param[0:3]\n",
    "    try:\n",
    "        mod = ARIMA(df_avg, order=pdq)\n",
    "        results = mod.fit()\n",
    "        data = {'param': pdq, 'AIC':results.aic }\n",
    "        df_results = df_results.append(data, ignore_index=True)\n",
    "    except:\n",
    "        continue\n",
    "df_results = df_results.sort_values(by='AIC',ascending=True)"
   ]
  },
  {
   "cell_type": "code",
   "execution_count": null,
   "metadata": {},
   "outputs": [],
   "source": [
    "df_results"
   ]
  },
  {
   "cell_type": "markdown",
   "metadata": {},
   "source": [
    "# Model training"
   ]
  },
  {
   "cell_type": "code",
   "execution_count": null,
   "metadata": {},
   "outputs": [],
   "source": [
    "rank = 1\n",
    "pdq = df_results.iloc[rank-1,1]\n",
    "\n",
    "print(f\"Using ({pdq[0]},{pdq[1]},{pdq[2]})\")\n",
    "\n",
    "mod = ARIMA(df_avg, order=pdq)\n",
    "results = mod.fit()"
   ]
  },
  {
   "cell_type": "markdown",
   "metadata": {},
   "source": [
    "# Model evaluation"
   ]
  },
  {
   "cell_type": "code",
   "execution_count": null,
   "metadata": {},
   "outputs": [],
   "source": [
    "fig = results.plot_diagnostics(figsize=(10, 6))\n",
    "fig.tight_layout()"
   ]
  },
  {
   "cell_type": "code",
   "execution_count": null,
   "metadata": {},
   "outputs": [],
   "source": [
    "pred = results.get_prediction(start=df_avg.index[1], end=df_avg.index[-1], dynamic=False)\n",
    "comb = pd.concat([df_avg, pred.predicted_mean], axis=1).dropna()\n",
    "comb['error'] = comb.iloc[:,0] - comb.iloc[:,1]\n",
    "comb['percentage'] = comb['error']/comb.iloc[:,0]*100\n",
    "\n",
    "MAE = comb['error'].abs().mean()\n",
    "RMSE = np.sqrt((comb['error']**2).mean())\n",
    "MAPE = comb['percentage'].abs().mean()\n",
    "\n",
    "print(f\"Mean absolute error: {MAE:6.3f}\")\n",
    "print(f\"Root mean squared error: {RMSE:6.3f}\")\n",
    "print(f\"Mean absolute percentage error: {MAPE:6.3f}\")"
   ]
  },
  {
   "cell_type": "markdown",
   "metadata": {},
   "source": [
    "# Plotting and forecasting"
   ]
  },
  {
   "cell_type": "code",
   "execution_count": null,
   "metadata": {},
   "outputs": [],
   "source": [
    "num_forecast = 10\n",
    "\n",
    "start_dt = df_avg.index[10]\n",
    "end_dt_data = df_avg.index[-1]\n",
    "if num_forecast > 0:\n",
    "    end_dt = end_dt_data + num_forecast * end_dt_data.freq\n",
    "else:\n",
    "    end_dt = end_dt_data\n",
    "\n",
    "print(start_dt)\n",
    "print(end_dt)"
   ]
  },
  {
   "cell_type": "code",
   "execution_count": null,
   "metadata": {},
   "outputs": [],
   "source": [
    "pred = results.get_prediction(start=pd.to_datetime(start_dt), end=pd.to_datetime(end_dt), dynamic=False)\n",
    "pred_ci = pred.conf_int()\n",
    "ax = df_avg.plot(label='Observed')\n",
    "pred.predicted_mean.plot(ax=ax, label='Prediction', alpha=.8, figsize=(14, 6))\n",
    "ax.fill_between(pred_ci.index,\n",
    "                pred_ci.iloc[:, 0],\n",
    "                pred_ci.iloc[:, 1], color='k', alpha=.2)\n",
    "ax.set_xlabel('Date')\n",
    "ax.set_ylabel('Y')\n",
    "ax.set_xlim(start_dt,end_dt)\n",
    "yp_max = pred.predicted_mean.max()\n",
    "yp_min = pred.predicted_mean.min()\n",
    "yp_mean = pred.predicted_mean.mean()\n",
    "ax.set_ylim(yp_min-0.1*yp_mean,yp_max+0.1*yp_mean)\n",
    "plt.legend()\n",
    "plt.show()"
   ]
  },
  {
   "cell_type": "code",
   "execution_count": null,
   "metadata": {},
   "outputs": [],
   "source": [
    "if num_forecast > 0:\n",
    "    display(pred.predicted_mean.loc[end_dt_data:end_dt])"
   ]
  }
 ],
 "metadata": {
  "kernelspec": {
   "display_name": "Python 3",
   "language": "python",
   "name": "python3"
  },
  "language_info": {
   "codemirror_mode": {
    "name": "ipython",
    "version": 3
   },
   "file_extension": ".py",
   "mimetype": "text/x-python",
   "name": "python",
   "nbconvert_exporter": "python",
   "pygments_lexer": "ipython3",
   "version": "3.7.9"
  }
 },
 "nbformat": 4,
 "nbformat_minor": 2
}
